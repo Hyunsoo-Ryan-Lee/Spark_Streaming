{
 "cells": [
  {
   "cell_type": "code",
   "execution_count": 1,
   "id": "8b52be18-4905-4d2f-882c-8773494351a6",
   "metadata": {
    "tags": []
   },
   "outputs": [],
   "source": [
    "# Create the Spark Session\n",
    "from pyspark.sql import SparkSession\n",
    "from pyspark.sql import types as T\n",
    "from pyspark.sql import window as W\n",
    "from pyspark.sql import functions as F\n",
    "\n",
    "spark = (\n",
    "    SparkSession \n",
    "    .builder \n",
    "    .appName(\"Streaming from Kafka\") \n",
    "    .config(\"spark.streaming.stopGracefullyOnShutdown\", True) \n",
    "    .config('spark.jars.packages', 'org.apache.spark:spark-sql-kafka-0-10_2.12:3.3.0')\n",
    "    .config(\"spark.driver.extraClassPath\", \"./jdbc/mysql-connector-j-8.4.0.jar\") \\\n",
    "    .config(\"spark.sql.shuffle.partitions\", 8)\n",
    "    .master(\"local[*]\") \n",
    "    .getOrCreate()\n",
    ")"
   ]
  },
  {
   "cell_type": "code",
   "execution_count": 2,
   "id": "b0da983b-69ad-40f8-a0e5-f229b22e46e8",
   "metadata": {
    "tags": []
   },
   "outputs": [],
   "source": [
    "kafka_df = spark.readStream \\\n",
    "    .format(\"kafka\") \\\n",
    "    .option(\"kafka.bootstrap.servers\", \"kafka1:19091,kafka2:19092,kafka3:19093\") \\\n",
    "    .option(\"subscribe\", \"user\") \\\n",
    "    .option(\"startingOffsets\", \"latest\") \\\n",
    "    .load()"
   ]
  },
  {
   "cell_type": "code",
   "execution_count": 3,
   "id": "7937281b-10bf-4898-8737-7d7b5f98fdfc",
   "metadata": {
    "tags": []
   },
   "outputs": [],
   "source": [
    "schema_2 = T.StructType([\n",
    "    T.StructField(\"birthdate\", T.StringType()),\n",
    "    T.StructField(\"blood_group\", T.StringType()),\n",
    "    T.StructField(\"job\", T.StringType()),\n",
    "    T.StructField(\"name\", T.StringType()),\n",
    "    T.StructField(\"residence\", T.StringType()),\n",
    "    T.StructField(\"sex\", T.StringType()),\n",
    "    T.StructField(\"ssn\", T.StringType()),\n",
    "    T.StructField(\"uuid\", T.StringType()),\n",
    "    ])"
   ]
  },
  {
   "cell_type": "code",
   "execution_count": 4,
   "id": "732935db-f3a5-4251-a0e8-cd6134e0e358",
   "metadata": {
    "tags": []
   },
   "outputs": [],
   "source": [
    "value_df = kafka_df.select(F.from_json(F.col(\"value\").cast(\"string\"), schema_2).alias(\"value\"))\n",
    "\n",
    "processed_df = value_df.selectExpr(\n",
    "    \"value.birthdate\", \n",
    "    \"value.blood_group\", \n",
    "    \"value.job\",\n",
    "    \"value.name\",\n",
    "    \"value.residence\",\n",
    "    \"value.sex\",\n",
    "    \"value.ssn\",\n",
    "    \"value.uuid\"\n",
    ")"
   ]
  },
  {
   "cell_type": "code",
   "execution_count": 5,
   "id": "8689b953-8351-4ec4-a5d6-e509e620e240",
   "metadata": {
    "tags": []
   },
   "outputs": [],
   "source": [
    "def write_file(df, fmt, path):\n",
    "    df.write.format(fmt).mode(\"append\").option(\"header\", \"true\").save(path)\n",
    "    \n",
    "def write_db(df, db_name, table_name):\n",
    "    df.write \\\n",
    "    .mode(\"append\") \\\n",
    "    .format(\"jdbc\") \\\n",
    "    .option(\"driver\", \"com.mysql.cj.jdbc.Driver\") \\\n",
    "    .option(\"url\", f\"jdbc:mysql://dockercompose-mysql-1:3306/{db_name}\") \\\n",
    "    .option(\"dbtable\", table_name) \\\n",
    "    .option(\"user\", \"hyunsoo\") \\\n",
    "    .option(\"password\", \"910506\") \\\n",
    "    .save()\n",
    "\n",
    "def data_output(df, batch_id):\n",
    "    print(f\"BATCH ID : {batch_id}\")\n",
    "    \n",
    "    # write to MYSQL\n",
    "    write_db(df, \"dataops\", \"fakeuser\")\n",
    "    \n",
    "    # write as csv\n",
    "    write_file(df, \"csv\", \"./csv\")\n",
    "    df.show()\n",
    "    # write as parquet\n",
    "    # write_file(df, \"parquet\", \"./parquet\")"
   ]
  },
  {
   "cell_type": "code",
   "execution_count": 6,
   "id": "11ee8db2-1505-473f-94c9-64f42e35e431",
   "metadata": {
    "collapsed": true,
    "jupyter": {
     "outputs_hidden": true
    },
    "tags": []
   },
   "outputs": [
    {
     "name": "stdout",
     "output_type": "stream",
     "text": [
      "BATCH ID : 0\n",
      "+---------+-----------+--------------------+------------+--------------------+---+-----------+--------------------+\n",
      "|birthdate|blood_group|                 job|        name|           residence|sex|        ssn|                uuid|\n",
      "+---------+-----------+--------------------+------------+--------------------+---+-----------+--------------------+\n",
      "| 19701213|        AB-|Chief Financial O...|Shari Thomas|9374 Carson Road\\...|  F|828-03-6474|fNnhESpctSXNbf3WW...|\n",
      "+---------+-----------+--------------------+------------+--------------------+---+-----------+--------------------+\n",
      "\n",
      "BATCH ID : 1\n",
      "+---------+-----------+--------------------+---------------+--------------------+---+-----------+--------------------+\n",
      "|birthdate|blood_group|                 job|           name|           residence|sex|        ssn|                uuid|\n",
      "+---------+-----------+--------------------+---------------+--------------------+---+-----------+--------------------+\n",
      "| 19830703|         O-|Human resources o...|   Marie Foster|6091 Sanford Squa...|  F|570-94-9941|TEU2t5ZYs2YpZpFXf...|\n",
      "| 20180101|        AB-|Conservator, muse...|Valerie Griffin|18981 Diane Views...|  F|742-94-7753|ediSNLJmJyRwNzhDk...|\n",
      "| 19610214|        AB+|Sports developmen...|  Austin Wilson|228 Dickerson For...|  M|201-11-5195|S4NjdHpKH5SgYBRrq...|\n",
      "| 20030919|         A-|Clothing/textile ...| Michele Harris|484 Yates Vista\\n...|  F|602-39-6976|a8gCvzY4wXYcZet4j...|\n",
      "+---------+-----------+--------------------+---------------+--------------------+---+-----------+--------------------+\n",
      "\n",
      "BATCH ID : 2\n",
      "+---------+-----------+-----------+--------------+--------------------+---+-----------+--------------------+\n",
      "|birthdate|blood_group|        job|          name|           residence|sex|        ssn|                uuid|\n",
      "+---------+-----------+-----------+--------------+--------------------+---+-----------+--------------------+\n",
      "| 19820708|         B-| Counsellor|Stanley Harmon|495 Margaret Broo...|  M|478-93-2802|eAsCCZuzGescScrBW...|\n",
      "| 19920606|         B+|Fine artist|    Robin Pham|84568 Brown Freew...|  F|048-39-7315|RSbJX9zr4orLvR3sc...|\n",
      "+---------+-----------+-----------+--------------+--------------------+---+-----------+--------------------+\n",
      "\n",
      "BATCH ID : 3\n",
      "+---------+-----------+--------------------+----------------+--------------------+---+-----------+--------------------+\n",
      "|birthdate|blood_group|                 job|            name|           residence|sex|        ssn|                uuid|\n",
      "+---------+-----------+--------------------+----------------+--------------------+---+-----------+--------------------+\n",
      "| 19760301|        AB+|Chartered public ...|      Joe Arnold|23376 Garcia Mill...|  M|791-24-9801|PuUhnhiLeDkfQv9tQ...|\n",
      "| 19751006|         B+|      Quarry manager|     Sara Murphy|208 Wendy Glens\\n...|  F|693-64-0885|dc7ZnbWGHgpqHMQJc...|\n",
      "| 19141110|         B-|Higher education ...|   Monica Arnold|94805 Christine S...|  F|612-56-4481|Yscm8kyTpwvExAZNC...|\n",
      "| 19830621|        AB+|Merchandiser, retail|Christopher Vega|30220 Billy Hills...|  M|535-27-3925|2UvgP2EiqM9YCwMmu...|\n",
      "| 19840924|         B+|Corporate investm...|     Kevin Price|0450 Sara Pass\\nN...|  M|395-41-2765|Lxci6QeQ7p2RDYzCg...|\n",
      "+---------+-----------+--------------------+----------------+--------------------+---+-----------+--------------------+\n",
      "\n",
      "BATCH ID : 4\n",
      "+---------+-----------+--------------------+--------------+--------------------+---+-----------+--------------------+\n",
      "|birthdate|blood_group|                 job|          name|           residence|sex|        ssn|                uuid|\n",
      "+---------+-----------+--------------------+--------------+--------------------+---+-----------+--------------------+\n",
      "| 19760817|         B+|Surveyor, rural p...|     Andre Kim|6346 Diana Stream...|  M|303-01-0185|eSzY2PcevxoszmbKA...|\n",
      "| 19840212|         O-|Biochemist, clinical|   Kathy Russo|PSC 8102, Box 440...|  F|116-48-7071|2s6FpoEoWT9tTjFVG...|\n",
      "| 19390826|         O+| Medical illustrator|Adam Hernandez|USS Williams\\nFPO...|  M|736-23-9292|DKpD3J4wecF4dWzXR...|\n",
      "| 20180415|         O+|Volunteer coordin...| Jose Anderson|Unit 6574 Box 709...|  M|669-78-0996|RZWWVJQMwUNN7UVTA...|\n",
      "+---------+-----------+--------------------+--------------+--------------------+---+-----------+--------------------+\n",
      "\n",
      "BATCH ID : 5\n",
      "+---------+-----------+--------------------+--------------+--------------------+---+-----------+--------------------+\n",
      "|birthdate|blood_group|                 job|          name|           residence|sex|        ssn|                uuid|\n",
      "+---------+-----------+--------------------+--------------+--------------------+---+-----------+--------------------+\n",
      "| 19480221|         A+|       Retail banker| William Marks|041 Moore Extensi...|  M|773-64-8351|kT6w6NNkW4pmGdpHa...|\n",
      "| 20031004|         A+|Advertising copyw...| Kimberly Hill|703 Estrada Flat ...|  F|816-10-2595|LefAo2SBWnN57vWP9...|\n",
      "| 19271026|         B+|Nature conservati...|   Ryan Barnes|73874 John Turnpi...|  M|855-82-2255|fL7RKU8s4TBbTvcRB...|\n",
      "| 19141129|        AB-|Special effects a...|   Gary Harris|405 Mckinney Poin...|  M|812-68-5096|9CuzvS5qw65oWs5Z9...|\n",
      "| 19610831|        AB-|Geophysicist/fiel...|Samantha Singh|25165 Brown Meado...|  F|396-45-8789|h2haTir3T83icfn8x...|\n",
      "+---------+-----------+--------------------+--------------+--------------------+---+-----------+--------------------+\n",
      "\n",
      "BATCH ID : 6\n",
      "+---------+-----------+--------------------+---------------+--------------------+---+-----------+--------------------+\n",
      "|birthdate|blood_group|                 job|           name|           residence|sex|        ssn|                uuid|\n",
      "+---------+-----------+--------------------+---------------+--------------------+---+-----------+--------------------+\n",
      "| 19631126|         O+|Nutritional thera...|Daniel Davidson|57399 Krista Hill...|  M|893-95-8518|mvq2vMnTHtBTX7zPU...|\n",
      "| 20151209|         B+|Pharmacist, hospital|   Matthew Wong|8772 Campbell Hil...|  M|153-71-7162|AnsUzwsqmhkHyQvG5...|\n",
      "| 19500708|         O-|        Chiropractor|   Luke Simpson|5829 Colon Pass\\n...|  M|775-65-3955|napppvuCABC3TB9uW...|\n",
      "| 19601122|        AB-|   Systems developer|  Mark Caldwell|Unit 8095 Box 899...|  M|832-89-8966|grRj29RPjturr797u...|\n",
      "| 20020611|         O+|  Arts administrator|   Amanda Price|663 Phillips Road...|  F|462-41-5943|nQCnPVs6upTpak75C...|\n",
      "+---------+-----------+--------------------+---------------+--------------------+---+-----------+--------------------+\n",
      "\n",
      "BATCH ID : 7\n",
      "+---------+-----------+--------------------+---------------+--------------------+---+-----------+--------------------+\n",
      "|birthdate|blood_group|                 job|           name|           residence|sex|        ssn|                uuid|\n",
      "+---------+-----------+--------------------+---------------+--------------------+---+-----------+--------------------+\n",
      "| 20180725|         A+|Historic building...| Michael Montes|USNS Harper\\nFPO ...|  M|130-09-8746|gqA9kzTxe7wFFhPmZ...|\n",
      "| 19730914|        AB-|Surveyor, commerc...|Michelle Flores|334 Price Mountai...|  F|367-24-7238|4PnePZn6kX9z6r9rA...|\n",
      "| 19580926|        AB-|Optician, dispensing|  Billy Hancock|PSC 6379, Box 977...|  M|886-36-7101|EBcC4aiqfNnqFAonU...|\n",
      "| 20160728|         A-|          IT trainer|Jeanette Torres|27177 Jacqueline ...|  F|075-51-0445|EkbBZwqnrkt2uXYdf...|\n",
      "| 19410402|         B+| Mechanical engineer| Charles Baxter|71701 Maria Court...|  M|094-45-7265|U8QJLZGRTj5AEuq2o...|\n",
      "+---------+-----------+--------------------+---------------+--------------------+---+-----------+--------------------+\n",
      "\n",
      "BATCH ID : 8\n",
      "+---------+-----------+--------------------+----------------+--------------------+---+-----------+--------------------+\n",
      "|birthdate|blood_group|                 job|            name|           residence|sex|        ssn|                uuid|\n",
      "+---------+-----------+--------------------+----------------+--------------------+---+-----------+--------------------+\n",
      "| 19950629|         B-|Advertising accou...|Brandon Sheppard|8919 Joshua Traff...|  M|416-11-6168|gpMTH6mDfQmANbhPW...|\n",
      "| 20150706|         A+|              Lawyer|  Jennifer White|6049 Russell Moun...|  F|670-80-9105|KwXPSkoq56fkxgsPp...|\n",
      "| 19820625|         B+|Licensed conveyancer|   Michael Lopez|PSC 3636, Box 850...|  M|674-71-3489|Mj2AgwsvzzV5SAotd...|\n",
      "+---------+-----------+--------------------+----------------+--------------------+---+-----------+--------------------+\n",
      "\n"
     ]
    },
    {
     "name": "stderr",
     "output_type": "stream",
     "text": [
      "ERROR:root:KeyboardInterrupt while sending command.\n",
      "Traceback (most recent call last):\n",
      "  File \"/spark/python/lib/py4j-0.10.9.5-src.zip/py4j/java_gateway.py\", line 1038, in send_command\n",
      "    response = connection.send_command(command)\n",
      "  File \"/spark/python/lib/py4j-0.10.9.5-src.zip/py4j/clientserver.py\", line 511, in send_command\n",
      "    answer = smart_decode(self.stream.readline()[:-1])\n",
      "  File \"/usr/local/lib/python3.7/socket.py\", line 589, in readinto\n",
      "    return self._sock.recv_into(b)\n",
      "KeyboardInterrupt\n"
     ]
    },
    {
     "ename": "KeyboardInterrupt",
     "evalue": "",
     "output_type": "error",
     "traceback": [
      "\u001b[0;31m---------------------------------------------------------------------------\u001b[0m",
      "\u001b[0;31mKeyboardInterrupt\u001b[0m                         Traceback (most recent call last)",
      "\u001b[0;32m/tmp/ipykernel_2443/298303051.py\u001b[0m in \u001b[0;36m<module>\u001b[0;34m\u001b[0m\n\u001b[1;32m      5\u001b[0m     \u001b[0;34m.\u001b[0m\u001b[0mstart\u001b[0m\u001b[0;34m(\u001b[0m\u001b[0;34m)\u001b[0m\u001b[0;34m\u001b[0m\u001b[0;34m\u001b[0m\u001b[0m\n\u001b[1;32m      6\u001b[0m \u001b[0;34m\u001b[0m\u001b[0m\n\u001b[0;32m----> 7\u001b[0;31m \u001b[0mdf_batch\u001b[0m\u001b[0;34m.\u001b[0m\u001b[0mawaitTermination\u001b[0m\u001b[0;34m(\u001b[0m\u001b[0;34m)\u001b[0m\u001b[0;34m\u001b[0m\u001b[0;34m\u001b[0m\u001b[0m\n\u001b[0m",
      "\u001b[0;32m/spark/python/pyspark/sql/streaming.py\u001b[0m in \u001b[0;36mawaitTermination\u001b[0;34m(self, timeout)\u001b[0m\n\u001b[1;32m    105\u001b[0m             \u001b[0;32mreturn\u001b[0m \u001b[0mself\u001b[0m\u001b[0;34m.\u001b[0m\u001b[0m_jsq\u001b[0m\u001b[0;34m.\u001b[0m\u001b[0mawaitTermination\u001b[0m\u001b[0;34m(\u001b[0m\u001b[0mint\u001b[0m\u001b[0;34m(\u001b[0m\u001b[0mtimeout\u001b[0m \u001b[0;34m*\u001b[0m \u001b[0;36m1000\u001b[0m\u001b[0;34m)\u001b[0m\u001b[0;34m)\u001b[0m\u001b[0;34m\u001b[0m\u001b[0;34m\u001b[0m\u001b[0m\n\u001b[1;32m    106\u001b[0m         \u001b[0;32melse\u001b[0m\u001b[0;34m:\u001b[0m\u001b[0;34m\u001b[0m\u001b[0;34m\u001b[0m\u001b[0m\n\u001b[0;32m--> 107\u001b[0;31m             \u001b[0;32mreturn\u001b[0m \u001b[0mself\u001b[0m\u001b[0;34m.\u001b[0m\u001b[0m_jsq\u001b[0m\u001b[0;34m.\u001b[0m\u001b[0mawaitTermination\u001b[0m\u001b[0;34m(\u001b[0m\u001b[0;34m)\u001b[0m\u001b[0;34m\u001b[0m\u001b[0;34m\u001b[0m\u001b[0m\n\u001b[0m\u001b[1;32m    108\u001b[0m \u001b[0;34m\u001b[0m\u001b[0m\n\u001b[1;32m    109\u001b[0m     \u001b[0;34m@\u001b[0m\u001b[0mproperty\u001b[0m  \u001b[0;31m# type: ignore[misc]\u001b[0m\u001b[0;34m\u001b[0m\u001b[0;34m\u001b[0m\u001b[0m\n",
      "\u001b[0;32m/spark/python/lib/py4j-0.10.9.5-src.zip/py4j/java_gateway.py\u001b[0m in \u001b[0;36m__call__\u001b[0;34m(self, *args)\u001b[0m\n\u001b[1;32m   1318\u001b[0m             \u001b[0mproto\u001b[0m\u001b[0;34m.\u001b[0m\u001b[0mEND_COMMAND_PART\u001b[0m\u001b[0;34m\u001b[0m\u001b[0;34m\u001b[0m\u001b[0m\n\u001b[1;32m   1319\u001b[0m \u001b[0;34m\u001b[0m\u001b[0m\n\u001b[0;32m-> 1320\u001b[0;31m         \u001b[0manswer\u001b[0m \u001b[0;34m=\u001b[0m \u001b[0mself\u001b[0m\u001b[0;34m.\u001b[0m\u001b[0mgateway_client\u001b[0m\u001b[0;34m.\u001b[0m\u001b[0msend_command\u001b[0m\u001b[0;34m(\u001b[0m\u001b[0mcommand\u001b[0m\u001b[0;34m)\u001b[0m\u001b[0;34m\u001b[0m\u001b[0;34m\u001b[0m\u001b[0m\n\u001b[0m\u001b[1;32m   1321\u001b[0m         return_value = get_return_value(\n\u001b[1;32m   1322\u001b[0m             answer, self.gateway_client, self.target_id, self.name)\n",
      "\u001b[0;32m/spark/python/lib/py4j-0.10.9.5-src.zip/py4j/java_gateway.py\u001b[0m in \u001b[0;36msend_command\u001b[0;34m(self, command, retry, binary)\u001b[0m\n\u001b[1;32m   1036\u001b[0m         \u001b[0mconnection\u001b[0m \u001b[0;34m=\u001b[0m \u001b[0mself\u001b[0m\u001b[0;34m.\u001b[0m\u001b[0m_get_connection\u001b[0m\u001b[0;34m(\u001b[0m\u001b[0;34m)\u001b[0m\u001b[0;34m\u001b[0m\u001b[0;34m\u001b[0m\u001b[0m\n\u001b[1;32m   1037\u001b[0m         \u001b[0;32mtry\u001b[0m\u001b[0;34m:\u001b[0m\u001b[0;34m\u001b[0m\u001b[0;34m\u001b[0m\u001b[0m\n\u001b[0;32m-> 1038\u001b[0;31m             \u001b[0mresponse\u001b[0m \u001b[0;34m=\u001b[0m \u001b[0mconnection\u001b[0m\u001b[0;34m.\u001b[0m\u001b[0msend_command\u001b[0m\u001b[0;34m(\u001b[0m\u001b[0mcommand\u001b[0m\u001b[0;34m)\u001b[0m\u001b[0;34m\u001b[0m\u001b[0;34m\u001b[0m\u001b[0m\n\u001b[0m\u001b[1;32m   1039\u001b[0m             \u001b[0;32mif\u001b[0m \u001b[0mbinary\u001b[0m\u001b[0;34m:\u001b[0m\u001b[0;34m\u001b[0m\u001b[0;34m\u001b[0m\u001b[0m\n\u001b[1;32m   1040\u001b[0m                 \u001b[0;32mreturn\u001b[0m \u001b[0mresponse\u001b[0m\u001b[0;34m,\u001b[0m \u001b[0mself\u001b[0m\u001b[0;34m.\u001b[0m\u001b[0m_create_connection_guard\u001b[0m\u001b[0;34m(\u001b[0m\u001b[0mconnection\u001b[0m\u001b[0;34m)\u001b[0m\u001b[0;34m\u001b[0m\u001b[0;34m\u001b[0m\u001b[0m\n",
      "\u001b[0;32m/spark/python/lib/py4j-0.10.9.5-src.zip/py4j/clientserver.py\u001b[0m in \u001b[0;36msend_command\u001b[0;34m(self, command)\u001b[0m\n\u001b[1;32m    509\u001b[0m         \u001b[0;32mtry\u001b[0m\u001b[0;34m:\u001b[0m\u001b[0;34m\u001b[0m\u001b[0;34m\u001b[0m\u001b[0m\n\u001b[1;32m    510\u001b[0m             \u001b[0;32mwhile\u001b[0m \u001b[0;32mTrue\u001b[0m\u001b[0;34m:\u001b[0m\u001b[0;34m\u001b[0m\u001b[0;34m\u001b[0m\u001b[0m\n\u001b[0;32m--> 511\u001b[0;31m                 \u001b[0manswer\u001b[0m \u001b[0;34m=\u001b[0m \u001b[0msmart_decode\u001b[0m\u001b[0;34m(\u001b[0m\u001b[0mself\u001b[0m\u001b[0;34m.\u001b[0m\u001b[0mstream\u001b[0m\u001b[0;34m.\u001b[0m\u001b[0mreadline\u001b[0m\u001b[0;34m(\u001b[0m\u001b[0;34m)\u001b[0m\u001b[0;34m[\u001b[0m\u001b[0;34m:\u001b[0m\u001b[0;34m-\u001b[0m\u001b[0;36m1\u001b[0m\u001b[0;34m]\u001b[0m\u001b[0;34m)\u001b[0m\u001b[0;34m\u001b[0m\u001b[0;34m\u001b[0m\u001b[0m\n\u001b[0m\u001b[1;32m    512\u001b[0m                 \u001b[0mlogger\u001b[0m\u001b[0;34m.\u001b[0m\u001b[0mdebug\u001b[0m\u001b[0;34m(\u001b[0m\u001b[0;34m\"Answer received: {0}\"\u001b[0m\u001b[0;34m.\u001b[0m\u001b[0mformat\u001b[0m\u001b[0;34m(\u001b[0m\u001b[0manswer\u001b[0m\u001b[0;34m)\u001b[0m\u001b[0;34m)\u001b[0m\u001b[0;34m\u001b[0m\u001b[0;34m\u001b[0m\u001b[0m\n\u001b[1;32m    513\u001b[0m                 \u001b[0;31m# Happens when a the other end is dead. There might be an empty\u001b[0m\u001b[0;34m\u001b[0m\u001b[0;34m\u001b[0m\u001b[0;34m\u001b[0m\u001b[0m\n",
      "\u001b[0;32m/usr/local/lib/python3.7/socket.py\u001b[0m in \u001b[0;36mreadinto\u001b[0;34m(self, b)\u001b[0m\n\u001b[1;32m    587\u001b[0m         \u001b[0;32mwhile\u001b[0m \u001b[0;32mTrue\u001b[0m\u001b[0;34m:\u001b[0m\u001b[0;34m\u001b[0m\u001b[0;34m\u001b[0m\u001b[0m\n\u001b[1;32m    588\u001b[0m             \u001b[0;32mtry\u001b[0m\u001b[0;34m:\u001b[0m\u001b[0;34m\u001b[0m\u001b[0;34m\u001b[0m\u001b[0m\n\u001b[0;32m--> 589\u001b[0;31m                 \u001b[0;32mreturn\u001b[0m \u001b[0mself\u001b[0m\u001b[0;34m.\u001b[0m\u001b[0m_sock\u001b[0m\u001b[0;34m.\u001b[0m\u001b[0mrecv_into\u001b[0m\u001b[0;34m(\u001b[0m\u001b[0mb\u001b[0m\u001b[0;34m)\u001b[0m\u001b[0;34m\u001b[0m\u001b[0;34m\u001b[0m\u001b[0m\n\u001b[0m\u001b[1;32m    590\u001b[0m             \u001b[0;32mexcept\u001b[0m \u001b[0mtimeout\u001b[0m\u001b[0;34m:\u001b[0m\u001b[0;34m\u001b[0m\u001b[0;34m\u001b[0m\u001b[0m\n\u001b[1;32m    591\u001b[0m                 \u001b[0mself\u001b[0m\u001b[0;34m.\u001b[0m\u001b[0m_timeout_occurred\u001b[0m \u001b[0;34m=\u001b[0m \u001b[0;32mTrue\u001b[0m\u001b[0;34m\u001b[0m\u001b[0;34m\u001b[0m\u001b[0m\n",
      "\u001b[0;31mKeyboardInterrupt\u001b[0m: "
     ]
    }
   ],
   "source": [
    "df_batch = processed_df.writeStream \\\n",
    "    .foreachBatch(data_output) \\\n",
    "    .option(\"checkpointLocation\", \"checkpoint_dir/04_write_to_multiple_sinks\") \\\n",
    "    .trigger(processingTime=\"5 seconds\") \\\n",
    "    .start()\n",
    "\n",
    "df_batch.awaitTermination()"
   ]
  },
  {
   "cell_type": "code",
   "execution_count": 11,
   "id": "9a5d40e0-bc84-4ba0-891c-de584e1ff235",
   "metadata": {
    "tags": []
   },
   "outputs": [
    {
     "name": "stdout",
     "output_type": "stream",
     "text": [
      "+-----+---------+-----------+--------------------+------------------+--------------------+---+-----------+--------------------+\n",
      "|index|birthdate|blood_group|                 job|              name|           residence|sex|        ssn|                uuid|\n",
      "+-----+---------+-----------+--------------------+------------------+--------------------+---+-----------+--------------------+\n",
      "|    0| 19810916|        AB+|Psychologist, pri...|      James Murray|PSC 1544, Box 316...|  M|741-53-6179|Cb7TYKQGDVZrB84Fo...|\n",
      "|    1| 19580109|        AB-|Child psychothera...|     Sydney Weaver|96697 Marissa Byp...|  F|576-98-7289|4huCF5xaAGPLHyEpN...|\n",
      "|    2| 19880909|         O+|Production assist...|Dr. Valerie Wagner|4981 Smith Prairi...|  F|196-87-0323|8AdYZ52fqepNjcizR...|\n",
      "+-----+---------+-----------+--------------------+------------------+--------------------+---+-----------+--------------------+\n",
      "\n"
     ]
    }
   ],
   "source": [
    "sql = \"select * from fakeuser\"\n",
    "\n",
    "df = spark.read.format(\"jdbc\") \\\n",
    "                    .option(\"url\", f\"jdbc:mysql://spark_streaming-db-1:3306/dataops\") \\\n",
    "                    .option(\"driver\", \"com.mysql.cj.jdbc.Driver\") \\\n",
    "                    .option(\"query\", sql) \\\n",
    "                    .option(\"user\", \"hyunsoo\") \\\n",
    "                    .option(\"password\", \"910506\") \\\n",
    "                    .load()\n",
    "\n",
    "df.show()"
   ]
  },
  {
   "cell_type": "code",
   "execution_count": 10,
   "id": "d98b6496-23eb-4775-8a43-285287c345f9",
   "metadata": {
    "tags": []
   },
   "outputs": [],
   "source": [
    "(\n",
    "    df.write\n",
    "    .mode(\"append\")\n",
    "    .format(\"jdbc\")\n",
    "    .option(\"driver\", \"com.mysql.cj.jdbc.Driver\") \\\n",
    "    .option(\"url\", f\"jdbc:mysql://spark_streaming-db-1:3306/dataops\") \\\n",
    "    .option(\"dbtable\", \"dataops\")\n",
    "    .option(\"user\", \"hyunsoo\")\n",
    "    .option(\"password\", \"910506\")\n",
    "    .save()\n",
    "\n",
    ")"
   ]
  }
 ],
 "metadata": {
  "kernelspec": {
   "display_name": "Python 3 (ipykernel)",
   "language": "python",
   "name": "python3"
  },
  "language_info": {
   "codemirror_mode": {
    "name": "ipython",
    "version": 3
   },
   "file_extension": ".py",
   "mimetype": "text/x-python",
   "name": "python",
   "nbconvert_exporter": "python",
   "pygments_lexer": "ipython3",
   "version": "3.8.10"
  }
 },
 "nbformat": 4,
 "nbformat_minor": 5
}
