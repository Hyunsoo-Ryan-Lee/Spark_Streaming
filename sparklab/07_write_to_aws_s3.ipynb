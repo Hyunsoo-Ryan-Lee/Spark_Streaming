{
 "cells": [
  {
   "cell_type": "code",
   "execution_count": 10,
   "id": "2257462d-8d8b-4778-9fec-cbc3a6805c43",
   "metadata": {},
   "outputs": [],
   "source": [
    "# Create the Spark Session\n",
    "from pyspark.sql import SparkSession\n",
    "from pyspark.sql import types as T\n",
    "from pyspark.sql import window as W\n",
    "from pyspark.sql import functions as F\n",
    "import dotenv, os\n",
    "from data_generator.fakedata import create_fakeuser\n",
    "\n",
    "env_path = dotenv.find_dotenv()\n",
    "dotenv.load_dotenv(env_path)\n",
    "\n",
    "spark = (\n",
    "    SparkSession \n",
    "    .builder \n",
    "    .appName(\"07_write_to_aws_s3\") \n",
    "    .config('spark.jars.packages', 'org.apache.spark:spark-sql-kafka-0-10_2.12:3.3.0')\n",
    "    .master(\"local[*]\") \n",
    "    .getOrCreate()\n",
    ")\n",
    "\n",
    "spark.conf.set(\"spark.sql.shuffle.partitions\", 8)\n",
    "spark.conf.set(\"spark.sql.streaming.schemaInference\", True)\n",
    "spark.conf.set(\"spark.streaming.stopGracefullyOnShutdown\", True)"
   ]
  },
  {
   "cell_type": "code",
   "execution_count": 2,
   "id": "c68a71c1-aec7-451a-8417-172246483586",
   "metadata": {},
   "outputs": [],
   "source": [
    "sc = spark.sparkContext\n",
    "access_key = os.environ.get(\"ACCESS_KEY_ID\")\n",
    "secret_key = os.environ.get(\"ACCESS_SECRET_KEY\")\n",
    "\n",
    "sc._jsc.hadoopConfiguration().set(\"fs.s3a.access.key\", access_key)\n",
    "sc._jsc.hadoopConfiguration().set(\"fs.s3a.secret.key\", secret_key)\n",
    "sc._jsc.hadoopConfiguration().set(\"fs.s3a.impl\", \"org.apache.hadoop.fs.s3a.S3AFileSystem\")\n",
    "sc._jsc.hadoopConfiguration().set(\"fs.s3a.aws.credentials.provider\", \"org.apache.hadoop.fs.s3a.SimpleAWSCredentialsProvider\")\n",
    "sc._jsc.hadoopConfiguration().set(\"fs.s3a.connection.ssl.enabled\", \"false\")"
   ]
  },
  {
   "cell_type": "code",
   "execution_count": 11,
   "id": "abffd726-efd3-4fa3-9b85-415a6bc86f50",
   "metadata": {},
   "outputs": [],
   "source": [
    "topic_name = \"demo\"\n",
    "\n",
    "kafka_df = spark.read \\\n",
    "    .format(\"kafka\") \\\n",
    "    .option(\"kafka.bootstrap.servers\", \"kafka1:19091,kafka2:19092,kafka3:19093\") \\\n",
    "    .option(\"subscribe\", topic_name) \\\n",
    "    .option(\"startingOffsets\", \"earliest\") \\\n",
    "    .load()"
   ]
  },
  {
   "cell_type": "code",
   "execution_count": 14,
   "id": "bb7c6829-164d-4c98-a59f-6c6fe4042b21",
   "metadata": {},
   "outputs": [
    {
     "name": "stdout",
     "output_type": "stream",
     "text": [
      "+----+--------------------+-----+---------+------+--------------------+-------------+\n",
      "| key|               value|topic|partition|offset|           timestamp|timestampType|\n",
      "+----+--------------------+-----+---------+------+--------------------+-------------+\n",
      "|null|[7B 22 6E 61 6D 6...| demo|        2|     0|2024-05-20 01:22:...|            0|\n",
      "|null|[7B 22 6E 61 6D 6...| demo|        0|     0|2024-05-20 01:22:...|            0|\n",
      "|null|[7B 22 6E 61 6D 6...| demo|        2|     1|2024-05-20 01:22:...|            0|\n",
      "|null|[7B 22 6E 61 6D 6...| demo|        2|     2|2024-05-20 01:53:...|            0|\n",
      "|null|[7B 22 6E 61 6D 6...| demo|        1|     0|2024-05-20 01:53:...|            0|\n",
      "|null|[7B 22 6E 61 6D 6...| demo|        2|     3|2024-05-20 01:53:...|            0|\n",
      "|null|[7B 22 6E 61 6D 6...| demo|        0|     1|2024-05-20 01:54:...|            0|\n",
      "|null|[7B 22 6E 61 6D 6...| demo|        1|     1|2024-05-20 01:54:...|            0|\n",
      "|null|[7B 22 6E 61 6D 6...| demo|        2|     4|2024-05-20 01:54:...|            0|\n",
      "|null|[7B 22 6E 61 6D 6...| demo|        0|     2|2024-05-20 01:54:...|            0|\n",
      "|null|[7B 22 6E 61 6D 6...| demo|        0|     3|2024-05-20 01:54:...|            0|\n",
      "|null|[7B 22 6E 61 6D 6...| demo|        0|     4|2024-05-20 01:54:...|            0|\n",
      "|null|[7B 22 6E 61 6D 6...| demo|        3|     0|2024-05-20 01:54:...|            0|\n",
      "|null|[7B 22 6E 61 6D 6...| demo|        0|     5|2024-05-20 01:54:...|            0|\n",
      "|null|[7B 22 6E 61 6D 6...| demo|        0|     6|2024-05-20 01:54:...|            0|\n",
      "|null|[7B 22 6E 61 6D 6...| demo|        0|     7|2024-05-20 01:54:...|            0|\n",
      "|null|[7B 22 6E 61 6D 6...| demo|        3|     1|2024-05-20 01:54:...|            0|\n",
      "|null|[7B 22 6E 61 6D 6...| demo|        2|     5|2024-05-20 01:54:...|            0|\n",
      "|null|[7B 22 6E 61 6D 6...| demo|        0|     8|2024-05-20 01:54:...|            0|\n",
      "|null|[7B 22 6E 61 6D 6...| demo|        2|     6|2024-05-20 01:54:...|            0|\n",
      "+----+--------------------+-----+---------+------+--------------------+-------------+\n",
      "only showing top 20 rows\n",
      "\n"
     ]
    }
   ],
   "source": [
    "kafka_df.orderBy('timestamp').show()"
   ]
  },
  {
   "cell_type": "code",
   "execution_count": 15,
   "id": "bdae9f9d-7f77-4644-8fe0-cfa48e8eac49",
   "metadata": {},
   "outputs": [],
   "source": [
    "schema = T.StructType([\n",
    "    T.StructField(\"birthdate\", T.StringType()),\n",
    "    T.StructField(\"blood_group\", T.StringType()),\n",
    "    T.StructField(\"job\", T.StringType()),\n",
    "    T.StructField(\"name\", T.StringType()),\n",
    "    T.StructField(\"residence\", T.StringType()),\n",
    "    T.StructField(\"sex\", T.StringType()),\n",
    "    T.StructField(\"ssn\", T.StringType()),\n",
    "    T.StructField(\"uuid\", T.StringType()),\n",
    "    T.StructField(\"timestamp\", T.TimestampType()),\n",
    "    ])"
   ]
  },
  {
   "cell_type": "code",
   "execution_count": 16,
   "id": "a4a4101a-aa1b-4b69-8ba1-32d2941803b5",
   "metadata": {},
   "outputs": [
    {
     "name": "stdout",
     "output_type": "stream",
     "text": [
      "+---------+-----------+--------------------+-----------------+--------------------+---+-----------+--------------------+-------------------+\n",
      "|birthdate|blood_group|                 job|             name|           residence|sex|        ssn|                uuid|          timestamp|\n",
      "+---------+-----------+--------------------+-----------------+--------------------+---+-----------+--------------------+-------------------+\n",
      "| 20200724|         B+|Medical sales rep...|     Rachel Moore|166 Peters Valley...|  F|066-83-1189|9qA2gsGoA2mm9Ka9x...|2024-05-20 01:22:53|\n",
      "| 19690318|         A+|     Arboriculturist| Jeffery Thompson|999 Simmons River...|  M|247-66-1932|PPtpVZVJvzm6TCByK...|2024-05-20 01:54:00|\n",
      "| 19360621|         A+|Lecturer, further...|  Richard Trevino|USCGC Burnett\\nFP...|  M|354-23-9711|LyF7YaaZhU3PZzHoP...|2024-05-20 01:54:06|\n",
      "| 20240305|         A+|Accountant, chart...|Taylor Washington|2495 Nelson Field...|  M|796-40-1135|VSAhzdQLTcnkK6YsA...|2024-05-20 01:54:08|\n",
      "| 19590717|         B-|Maintenance engineer|  Barbara Johnson|483 Selena Locks ...|  F|877-04-5763|X4myut2ntC8WpH4gf...|2024-05-20 01:54:10|\n",
      "| 19200925|         O+| Hospital pharmacist|    Jill Santiago|5735 Montgomery F...|  F|036-84-2384|G5tV5kQhKSgdZoe4F...|2024-05-20 01:54:14|\n",
      "| 19281122|         A+|  Professor Emeritus| Heather Castillo|8997 Marissa Tunn...|  F|199-41-8371|59Uv6mKSPA7z2SaA7...|2024-05-20 01:54:16|\n",
      "| 19860212|         O-|    Catering manager|     Daniel Mills|128 Linda Islands...|  M|233-41-5525|RgudGE9ubQJZ8ZddR...|2024-05-20 01:54:18|\n",
      "| 19091031|         A+|Horticultural con...|     Jason Harris|USNV Fischer\\nFPO...|  M|297-01-9442|MSFy8sJtDfrQbN5kN...|2024-05-20 01:54:24|\n",
      "| 19811223|        AB+|          Astronomer|    Meghan Bolton|04667 Lisa Path\\n...|  F|087-25-0010|Di9AjRJbzkAa5wBEm...|2024-05-20 01:54:45|\n",
      "| 19820226|         B-|          Counsellor|  Catherine Smith|4239 Reeves Isle ...|  F|110-07-0482|5ivF5VR5TVBvVaMoJ...|2024-05-20 01:54:47|\n",
      "| 19730603|        AB-| Call centre manager|   Kathryn Guzman|44666 Chavez Corn...|  F|508-24-2027|iVS2B9YfqUdVEKnct...|2024-05-20 01:53:56|\n",
      "| 19450702|         A+|Local government ...|     Calvin Davis|06775 Scott Fords...|  M|256-47-8503|cK6SNjBevMEfXnrMG...|2024-05-20 01:54:02|\n",
      "| 19760830|         A+|     Careers adviser|  Nicholas Morris|93106 Jessica Cre...|  M|397-34-4232|BhdUfnuAWcK9Dq4Vq...|2024-05-20 01:54:28|\n",
      "| 19620217|        AB+| Clinical biochemist| Julie Hutchinson|72464 William Loc...|  F|184-65-4959|m7gatzm6BzYbhQJgu...|2024-05-20 01:54:30|\n",
      "| 19850113|        AB-| Associate Professor|    Courtney Cook|657 Little Island...|  F|892-64-2272|mxrW7Lx54hkGqVBPT...|2024-05-20 01:54:32|\n",
      "| 19100306|         B-|       Stage manager| Charles Randolph|77536 Baker Shoal...|  M|294-32-0478|DgAYTcoSLEzAjqEVA...|2024-05-20 01:22:51|\n",
      "| 19660403|         O+|Recruitment consu...|Christopher Smith|7492 Cindy Center...|  M|164-49-3219|L5oLn26RSqjBExJG2...|2024-05-20 01:22:55|\n",
      "| 19660508|         B+|Engineer, electro...|       Dana Burke|454 Haas Walk\\nNe...|  F|371-12-9276|oR88inyXAVv9BG4Rc...|2024-05-20 01:53:54|\n",
      "| 19450830|         B+|             Midwife|       Laura Barr|Unit 2051 Box 063...|  F|729-12-1537|d3guX6VL7fpeYUXiE...|2024-05-20 01:53:58|\n",
      "+---------+-----------+--------------------+-----------------+--------------------+---+-----------+--------------------+-------------------+\n",
      "only showing top 20 rows\n",
      "\n"
     ]
    }
   ],
   "source": [
    "value_df = kafka_df.select(F.from_json(F.col(\"value\").cast(\"string\"), schema).alias(\"value\"))\n",
    "\n",
    "processed_df = value_df.selectExpr(\n",
    "    \"value.birthdate\",\n",
    "    \"value.blood_group\",\n",
    "    \"value.job\",\n",
    "    \"value.name\",\n",
    "    \"value.residence\",\n",
    "    \"value.sex\",\n",
    "    \"value.ssn\",\n",
    "    \"value.uuid\",\n",
    "    \"value.timestamp\"\n",
    ")\n",
    "\n",
    "processed_df.show()\n",
    "# final_df = processed_df.withColumn(\"age\", (F.lit(2024) - F.substring(\"birthdate\", 0, 4)).cast(T.IntegerType()))"
   ]
  },
  {
   "cell_type": "code",
   "execution_count": 6,
   "id": "e219c87b-0097-4e44-a222-4102c8f9dc64",
   "metadata": {
    "collapsed": true,
    "jupyter": {
     "outputs_hidden": true
    }
   },
   "outputs": [
    {
     "name": "stderr",
     "output_type": "stream",
     "text": [
      "ERROR:root:KeyboardInterrupt while sending command.\n",
      "Traceback (most recent call last):\n",
      "  File \"/usr/local/lib/python3.8/dist-packages/py4j/java_gateway.py\", line 1038, in send_command\n",
      "    response = connection.send_command(command)\n",
      "  File \"/usr/local/lib/python3.8/dist-packages/py4j/clientserver.py\", line 511, in send_command\n",
      "    answer = smart_decode(self.stream.readline()[:-1])\n",
      "  File \"/usr/lib/python3.8/socket.py\", line 669, in readinto\n",
      "    return self._sock.recv_into(b)\n",
      "KeyboardInterrupt\n"
     ]
    },
    {
     "ename": "KeyboardInterrupt",
     "evalue": "",
     "output_type": "error",
     "traceback": [
      "\u001b[0;31m---------------------------------------------------------------------------\u001b[0m",
      "\u001b[0;31mKeyboardInterrupt\u001b[0m                         Traceback (most recent call last)",
      "Cell \u001b[0;32mIn[6], line 9\u001b[0m\n\u001b[1;32m      1\u001b[0m df_parquet \u001b[38;5;241m=\u001b[39m final_df\u001b[38;5;241m.\u001b[39mwriteStream \\\n\u001b[1;32m      2\u001b[0m     \u001b[38;5;241m.\u001b[39mformat(\u001b[38;5;124m\"\u001b[39m\u001b[38;5;124mparquet\u001b[39m\u001b[38;5;124m\"\u001b[39m) \\\n\u001b[1;32m      3\u001b[0m     \u001b[38;5;241m.\u001b[39moutputMode(\u001b[38;5;124m\"\u001b[39m\u001b[38;5;124mappend\u001b[39m\u001b[38;5;124m\"\u001b[39m) \\\n\u001b[0;32m   (...)\u001b[0m\n\u001b[1;32m      6\u001b[0m     \u001b[38;5;241m.\u001b[39mtrigger(processingTime\u001b[38;5;241m=\u001b[39m\u001b[38;5;124m\"\u001b[39m\u001b[38;5;124m5 seconds\u001b[39m\u001b[38;5;124m\"\u001b[39m) \\\n\u001b[1;32m      7\u001b[0m     \u001b[38;5;241m.\u001b[39mstart()\n\u001b[0;32m----> 9\u001b[0m \u001b[43mdf_parquet\u001b[49m\u001b[38;5;241;43m.\u001b[39;49m\u001b[43mawaitTermination\u001b[49m\u001b[43m(\u001b[49m\u001b[43m)\u001b[49m\n",
      "File \u001b[0;32m/usr/local/lib/python3.8/dist-packages/pyspark/sql/streaming.py:107\u001b[0m, in \u001b[0;36mStreamingQuery.awaitTermination\u001b[0;34m(self, timeout)\u001b[0m\n\u001b[1;32m    105\u001b[0m     \u001b[38;5;28;01mreturn\u001b[39;00m \u001b[38;5;28mself\u001b[39m\u001b[38;5;241m.\u001b[39m_jsq\u001b[38;5;241m.\u001b[39mawaitTermination(\u001b[38;5;28mint\u001b[39m(timeout \u001b[38;5;241m*\u001b[39m \u001b[38;5;241m1000\u001b[39m))\n\u001b[1;32m    106\u001b[0m \u001b[38;5;28;01melse\u001b[39;00m:\n\u001b[0;32m--> 107\u001b[0m     \u001b[38;5;28;01mreturn\u001b[39;00m \u001b[38;5;28;43mself\u001b[39;49m\u001b[38;5;241;43m.\u001b[39;49m\u001b[43m_jsq\u001b[49m\u001b[38;5;241;43m.\u001b[39;49m\u001b[43mawaitTermination\u001b[49m\u001b[43m(\u001b[49m\u001b[43m)\u001b[49m\n",
      "File \u001b[0;32m/usr/local/lib/python3.8/dist-packages/py4j/java_gateway.py:1320\u001b[0m, in \u001b[0;36mJavaMember.__call__\u001b[0;34m(self, *args)\u001b[0m\n\u001b[1;32m   1313\u001b[0m args_command, temp_args \u001b[38;5;241m=\u001b[39m \u001b[38;5;28mself\u001b[39m\u001b[38;5;241m.\u001b[39m_build_args(\u001b[38;5;241m*\u001b[39margs)\n\u001b[1;32m   1315\u001b[0m command \u001b[38;5;241m=\u001b[39m proto\u001b[38;5;241m.\u001b[39mCALL_COMMAND_NAME \u001b[38;5;241m+\u001b[39m\\\n\u001b[1;32m   1316\u001b[0m     \u001b[38;5;28mself\u001b[39m\u001b[38;5;241m.\u001b[39mcommand_header \u001b[38;5;241m+\u001b[39m\\\n\u001b[1;32m   1317\u001b[0m     args_command \u001b[38;5;241m+\u001b[39m\\\n\u001b[1;32m   1318\u001b[0m     proto\u001b[38;5;241m.\u001b[39mEND_COMMAND_PART\n\u001b[0;32m-> 1320\u001b[0m answer \u001b[38;5;241m=\u001b[39m \u001b[38;5;28;43mself\u001b[39;49m\u001b[38;5;241;43m.\u001b[39;49m\u001b[43mgateway_client\u001b[49m\u001b[38;5;241;43m.\u001b[39;49m\u001b[43msend_command\u001b[49m\u001b[43m(\u001b[49m\u001b[43mcommand\u001b[49m\u001b[43m)\u001b[49m\n\u001b[1;32m   1321\u001b[0m return_value \u001b[38;5;241m=\u001b[39m get_return_value(\n\u001b[1;32m   1322\u001b[0m     answer, \u001b[38;5;28mself\u001b[39m\u001b[38;5;241m.\u001b[39mgateway_client, \u001b[38;5;28mself\u001b[39m\u001b[38;5;241m.\u001b[39mtarget_id, \u001b[38;5;28mself\u001b[39m\u001b[38;5;241m.\u001b[39mname)\n\u001b[1;32m   1324\u001b[0m \u001b[38;5;28;01mfor\u001b[39;00m temp_arg \u001b[38;5;129;01min\u001b[39;00m temp_args:\n",
      "File \u001b[0;32m/usr/local/lib/python3.8/dist-packages/py4j/java_gateway.py:1038\u001b[0m, in \u001b[0;36mGatewayClient.send_command\u001b[0;34m(self, command, retry, binary)\u001b[0m\n\u001b[1;32m   1036\u001b[0m connection \u001b[38;5;241m=\u001b[39m \u001b[38;5;28mself\u001b[39m\u001b[38;5;241m.\u001b[39m_get_connection()\n\u001b[1;32m   1037\u001b[0m \u001b[38;5;28;01mtry\u001b[39;00m:\n\u001b[0;32m-> 1038\u001b[0m     response \u001b[38;5;241m=\u001b[39m \u001b[43mconnection\u001b[49m\u001b[38;5;241;43m.\u001b[39;49m\u001b[43msend_command\u001b[49m\u001b[43m(\u001b[49m\u001b[43mcommand\u001b[49m\u001b[43m)\u001b[49m\n\u001b[1;32m   1039\u001b[0m     \u001b[38;5;28;01mif\u001b[39;00m binary:\n\u001b[1;32m   1040\u001b[0m         \u001b[38;5;28;01mreturn\u001b[39;00m response, \u001b[38;5;28mself\u001b[39m\u001b[38;5;241m.\u001b[39m_create_connection_guard(connection)\n",
      "File \u001b[0;32m/usr/local/lib/python3.8/dist-packages/py4j/clientserver.py:511\u001b[0m, in \u001b[0;36mClientServerConnection.send_command\u001b[0;34m(self, command)\u001b[0m\n\u001b[1;32m    509\u001b[0m \u001b[38;5;28;01mtry\u001b[39;00m:\n\u001b[1;32m    510\u001b[0m     \u001b[38;5;28;01mwhile\u001b[39;00m \u001b[38;5;28;01mTrue\u001b[39;00m:\n\u001b[0;32m--> 511\u001b[0m         answer \u001b[38;5;241m=\u001b[39m smart_decode(\u001b[38;5;28;43mself\u001b[39;49m\u001b[38;5;241;43m.\u001b[39;49m\u001b[43mstream\u001b[49m\u001b[38;5;241;43m.\u001b[39;49m\u001b[43mreadline\u001b[49m\u001b[43m(\u001b[49m\u001b[43m)\u001b[49m[:\u001b[38;5;241m-\u001b[39m\u001b[38;5;241m1\u001b[39m])\n\u001b[1;32m    512\u001b[0m         logger\u001b[38;5;241m.\u001b[39mdebug(\u001b[38;5;124m\"\u001b[39m\u001b[38;5;124mAnswer received: \u001b[39m\u001b[38;5;132;01m{0}\u001b[39;00m\u001b[38;5;124m\"\u001b[39m\u001b[38;5;241m.\u001b[39mformat(answer))\n\u001b[1;32m    513\u001b[0m         \u001b[38;5;66;03m# Happens when a the other end is dead. There might be an empty\u001b[39;00m\n\u001b[1;32m    514\u001b[0m         \u001b[38;5;66;03m# answer before the socket raises an error.\u001b[39;00m\n",
      "File \u001b[0;32m/usr/lib/python3.8/socket.py:669\u001b[0m, in \u001b[0;36mSocketIO.readinto\u001b[0;34m(self, b)\u001b[0m\n\u001b[1;32m    667\u001b[0m \u001b[38;5;28;01mwhile\u001b[39;00m \u001b[38;5;28;01mTrue\u001b[39;00m:\n\u001b[1;32m    668\u001b[0m     \u001b[38;5;28;01mtry\u001b[39;00m:\n\u001b[0;32m--> 669\u001b[0m         \u001b[38;5;28;01mreturn\u001b[39;00m \u001b[38;5;28;43mself\u001b[39;49m\u001b[38;5;241;43m.\u001b[39;49m\u001b[43m_sock\u001b[49m\u001b[38;5;241;43m.\u001b[39;49m\u001b[43mrecv_into\u001b[49m\u001b[43m(\u001b[49m\u001b[43mb\u001b[49m\u001b[43m)\u001b[49m\n\u001b[1;32m    670\u001b[0m     \u001b[38;5;28;01mexcept\u001b[39;00m timeout:\n\u001b[1;32m    671\u001b[0m         \u001b[38;5;28mself\u001b[39m\u001b[38;5;241m.\u001b[39m_timeout_occurred \u001b[38;5;241m=\u001b[39m \u001b[38;5;28;01mTrue\u001b[39;00m\n",
      "\u001b[0;31mKeyboardInterrupt\u001b[0m: "
     ]
    }
   ],
   "source": [
    "df_parquet = final_df.writeStream \\\n",
    "    .format(\"parquet\") \\\n",
    "    .outputMode(\"append\") \\\n",
    "    .option(\"path\", \"s3a://personal-golight-image-bucket/sparkstreaming\") \\\n",
    "    .option(\"checkpointLocation\", \"checkpoint_dir/07_write_to_aws_s3\") \\\n",
    "    .trigger(processingTime=\"5 seconds\") \\\n",
    "    .start()\n",
    "\n",
    "df_parquet.awaitTermination()"
   ]
  },
  {
   "cell_type": "code",
   "execution_count": 9,
   "id": "8096c099-e72e-40ae-85d3-37f09e7fcab4",
   "metadata": {},
   "outputs": [
    {
     "name": "stdout",
     "output_type": "stream",
     "text": [
      "+---------+-----------+--------------------+----------------+--------------------+---+-----------+--------------------+-------------------+---+\n",
      "|birthdate|blood_group|                 job|            name|           residence|sex|        ssn|                uuid|          timestamp|age|\n",
      "+---------+-----------+--------------------+----------------+--------------------+---+-----------+--------------------+-------------------+---+\n",
      "| 19091031|         A+|Horticultural con...|    Jason Harris|USNV Fischer\\nFPO...|  M|297-01-9442|MSFy8sJtDfrQbN5kN...|2024-05-20 01:54:24|115|\n",
      "| 19160424|         A+|          Geochemist| Jason Henderson|8539 Simon Loaf A...|  M|164-38-0923|cFpuxFbFs4iG7duti...|2024-05-20 01:54:12|108|\n",
      "| 19200925|         O+| Hospital pharmacist|   Jill Santiago|5735 Montgomery F...|  F|036-84-2384|G5tV5kQhKSgdZoe4F...|2024-05-20 01:54:14|104|\n",
      "| 19281122|         A+|  Professor Emeritus|Heather Castillo|8997 Marissa Tunn...|  F|199-41-8371|59Uv6mKSPA7z2SaA7...|2024-05-20 01:54:16| 96|\n",
      "| 19340513|         B+|Chartered accountant|     Susan White|003 Jesus Points ...|  F|787-73-2231|m8DjJXjN3cSXRjMfy...|2024-05-20 01:54:26| 90|\n",
      "| 19341031|        AB+|    Product designer|Christine Thomas|39605 Mendez Path...|  F|066-62-8201|EcQiqs4QB5w4bBQxj...|2024-05-20 01:54:39| 90|\n",
      "| 19360621|         A+|Lecturer, further...| Richard Trevino|USCGC Burnett\\nFP...|  M|354-23-9711|LyF7YaaZhU3PZzHoP...|2024-05-20 01:54:06| 88|\n",
      "| 19440503|        AB+|Armed forces tech...|   Hannah Dillon|2617 Heather Broo...|  F|398-16-0946|jqQ2ZzJ3RzgVautmX...|2024-05-20 01:54:41| 80|\n",
      "| 19450702|         A+|Local government ...|    Calvin Davis|06775 Scott Fords...|  M|256-47-8503|cK6SNjBevMEfXnrMG...|2024-05-20 01:54:02| 79|\n",
      "| 19450830|         B+|             Midwife|      Laura Barr|Unit 2051 Box 063...|  F|729-12-1537|d3guX6VL7fpeYUXiE...|2024-05-20 01:53:58| 79|\n",
      "| 19590717|         B-|Maintenance engineer| Barbara Johnson|483 Selena Locks ...|  F|877-04-5763|X4myut2ntC8WpH4gf...|2024-05-20 01:54:10| 65|\n",
      "| 19620217|        AB+| Clinical biochemist|Julie Hutchinson|72464 William Loc...|  F|184-65-4959|m7gatzm6BzYbhQJgu...|2024-05-20 01:54:30| 62|\n",
      "| 19690318|         A+|     Arboriculturist|Jeffery Thompson|999 Simmons River...|  M|247-66-1932|PPtpVZVJvzm6TCByK...|2024-05-20 01:54:00| 55|\n",
      "| 19730603|        AB-| Call centre manager|  Kathryn Guzman|44666 Chavez Corn...|  F|508-24-2027|iVS2B9YfqUdVEKnct...|2024-05-20 01:53:56| 51|\n",
      "| 19760830|         A+|     Careers adviser| Nicholas Morris|93106 Jessica Cre...|  M|397-34-4232|BhdUfnuAWcK9Dq4Vq...|2024-05-20 01:54:28| 48|\n",
      "| 19811223|        AB+|          Astronomer|   Meghan Bolton|04667 Lisa Path\\n...|  F|087-25-0010|Di9AjRJbzkAa5wBEm...|2024-05-20 01:54:45| 43|\n",
      "| 19820226|         B-|          Counsellor| Catherine Smith|4239 Reeves Isle ...|  F|110-07-0482|5ivF5VR5TVBvVaMoJ...|2024-05-20 01:54:47| 42|\n",
      "| 19850113|        AB-| Associate Professor|   Courtney Cook|657 Little Island...|  F|892-64-2272|mxrW7Lx54hkGqVBPT...|2024-05-20 01:54:32| 39|\n",
      "| 19860419|         O-|         Fine artist|    Bradley Hall|Unit 4338 Box 366...|  M|255-42-0707|BUJn975Hh56zhVYFA...|2024-05-20 01:54:43| 38|\n",
      "| 19860212|         O-|    Catering manager|    Daniel Mills|128 Linda Islands...|  M|233-41-5525|RgudGE9ubQJZ8ZddR...|2024-05-20 01:54:18| 38|\n",
      "+---------+-----------+--------------------+----------------+--------------------+---+-----------+--------------------+-------------------+---+\n",
      "only showing top 20 rows\n",
      "\n"
     ]
    }
   ],
   "source": [
    "spark.read.parquet(\"s3a://personal-golight-image-bucket/sparkstreaming/\").orderBy('age', ascending=False).show()"
   ]
  },
  {
   "cell_type": "code",
   "execution_count": null,
   "id": "a25cd48f-c7b5-4f68-84fa-979d7b2cd1d7",
   "metadata": {},
   "outputs": [],
   "source": []
  }
 ],
 "metadata": {
  "kernelspec": {
   "display_name": "Python 3 (ipykernel)",
   "language": "python",
   "name": "python3"
  },
  "language_info": {
   "codemirror_mode": {
    "name": "ipython",
    "version": 3
   },
   "file_extension": ".py",
   "mimetype": "text/x-python",
   "name": "python",
   "nbconvert_exporter": "python",
   "pygments_lexer": "ipython3",
   "version": "3.8.10"
  }
 },
 "nbformat": 4,
 "nbformat_minor": 5
}
