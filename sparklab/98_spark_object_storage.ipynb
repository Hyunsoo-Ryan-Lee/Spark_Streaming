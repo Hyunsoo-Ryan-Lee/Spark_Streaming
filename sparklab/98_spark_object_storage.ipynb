{
 "cells": [
  {
   "cell_type": "code",
   "execution_count": 10,
   "id": "c208ed0b-2cd4-4c13-9102-c4fef41bc04c",
   "metadata": {},
   "outputs": [],
   "source": [
    "from pyspark.sql import SparkSession\n",
    "import dotenv\n",
    "import os\n",
    "\n",
    "env_path = dotenv.find_dotenv()\n",
    "dotenv.load_dotenv(env_path)\n",
    "\n",
    "spark = SparkSession.builder \\\n",
    "        .master(\"local\") \\\n",
    "        .appName(\"hadoop-ncloud\") \\\n",
    "        .config(\"spark.driver.extraClassPath\", \"./jdbc/mysql-connector-j-8.4.0.jar:./jdbc/postgresql-42.7.3.jar\") \\\n",
    "        .getOrCreate()\n",
    "\n",
    "sc = spark.sparkContext\n",
    "access_key = os.environ.get(\"ACCESS_KEY_ID\")\n",
    "secret_key = os.environ.get(\"ACCESS_SECRET_KEY\")\n",
    "\n",
    "sc._jsc.hadoopConfiguration().set(\"fs.s3a.access.key\", access_key)\n",
    "sc._jsc.hadoopConfiguration().set(\"fs.s3a.secret.key\", secret_key)\n",
    "sc._jsc.hadoopConfiguration().set(\"fs.s3a.impl\", \"org.apache.hadoop.fs.s3a.S3AFileSystem\")\n",
    "sc._jsc.hadoopConfiguration().set(\"fs.s3a.aws.credentials.provider\", \"org.apache.hadoop.fs.s3a.SimpleAWSCredentialsProvider\")\n",
    "sc._jsc.hadoopConfiguration().set(\"fs.s3a.connection.ssl.enabled\", \"false\")\n",
    "# sc._jsc.hadoopConfiguration().set(\"fs.s3a.endpoint\", \"http://kr.objectstorage.ncloud.com\")"
   ]
  },
  {
   "cell_type": "code",
   "execution_count": 2,
   "id": "a9972430-91a6-4046-9cc3-97316e090ea3",
   "metadata": {},
   "outputs": [],
   "source": [
    "df = spark.read.parquet(\"s3a://personal-golight-image-bucket/postgresql/fake_dataframe/\")"
   ]
  },
  {
   "cell_type": "code",
   "execution_count": 3,
   "id": "149187e4-da79-438c-ab27-588b23fe781e",
   "metadata": {},
   "outputs": [],
   "source": [
    "def write_mysql(df, db_name, table_name):\n",
    "    df.write \\\n",
    "    .mode(\"append\") \\\n",
    "    .format(\"jdbc\") \\\n",
    "    .option(\"driver\", \"com.mysql.cj.jdbc.Driver\") \\\n",
    "    .option(\"url\", f\"jdbc:mysql://dockercompose-mysql-1:3306/{db_name}\") \\\n",
    "    .option(\"dbtable\", table_name) \\\n",
    "    .option(\"user\", \"hyunsoo\") \\\n",
    "    .option(\"password\", \"910506\") \\\n",
    "    .save()"
   ]
  },
  {
   "cell_type": "code",
   "execution_count": 4,
   "id": "cea3deff-c4fa-4cd2-bef5-78bdc301ad1d",
   "metadata": {},
   "outputs": [],
   "source": [
    "write_mysql(df, \"dataops\", \"s3data\")"
   ]
  },
  {
   "cell_type": "code",
   "execution_count": null,
   "id": "ca121deb-57e3-48cb-9e5d-71c6ba1de8c2",
   "metadata": {},
   "outputs": [],
   "source": []
  },
  {
   "cell_type": "code",
   "execution_count": 4,
   "id": "9cc80074-13ff-4fa4-97f4-f33e030f39b6",
   "metadata": {},
   "outputs": [],
   "source": [
    "pdf = df.groupby(\"city\").count()\n",
    "\n",
    "pdf.coalesce(1).write.mode('overwrite').parquet(\"s3a://personal-golight-image-bucket/gazuaaaaaaa\")"
   ]
  },
  {
   "cell_type": "code",
   "execution_count": 6,
   "id": "e3d99f9a-79a3-418d-80a9-6c9145bce192",
   "metadata": {},
   "outputs": [],
   "source": [
    "df.createOrReplaceTempView(\"fake\")"
   ]
  },
  {
   "cell_type": "code",
   "execution_count": 7,
   "id": "64d93bac-2160-41c8-bf2b-a892487a2aa6",
   "metadata": {},
   "outputs": [],
   "source": [
    "def qq(query):\n",
    "    return spark.sql(query)"
   ]
  },
  {
   "cell_type": "code",
   "execution_count": 8,
   "id": "72f92c3e-496b-4284-b9ba-c56c8a316638",
   "metadata": {},
   "outputs": [
    {
     "name": "stdout",
     "output_type": "stream",
     "text": [
      "+--------------------+------+--------------------------------+---+-----+--------------+----------+---+------------+----------+----+---+---+------+\n",
      "|                uuid|  name|                             job|sex|blood|          city|birth_year|age|age_category|batch_date|yyyy| mm| dd| analy|\n",
      "+--------------------+------+--------------------------------+---+-----+--------------+----------+---+------------+----------+----+---+---+------+\n",
      "|PscFahxA7ZipcqJiy...|김순옥|                          수금원|  F|    A|        경기도|      1936| 88|        80대|  20240114|2024|  1| 14|  노년|\n",
      "|aFcBovFwKKGYuZ2Np...|박경자|전기 부품 및 제품제조 기계조작원|  F|   AB|    부산광역시|      2004| 20|        20대|  20240114|2024|  1| 14|젊은이|\n",
      "|HhxVzky52G3iLd8vS...|김도윤|          보조 교사 및 기타 교사|  M|    A|    울산광역시|      1959| 65|        60대|  20240114|2024|  1| 14|  중년|\n",
      "|daTdeSWJnf743fZpN...|이성호|    국가/지방 및 공공행정 사무원|  M|   AB|제주특별자치도|      1995| 29|        20대|  20240114|2024|  1| 14|젊은이|\n",
      "|UtxCAwqnYXjBoRcJJ...|박채원|             섀시 조립 및 설치원|  F|    O|    서울특별시|      1918|106|   90대 이상|  20240114|2024|  1| 14|  노년|\n",
      "|iXHF9Po9bX5N89f3F...|김성수|                     운송 사무원|  M|    O|    대전광역시|      1988| 36|        30대|  20240114|2024|  1| 14|젊은이|\n",
      "|ALg85qt9bPi8mBGNC...|김우진|                          패턴사|  M|    O|        강원도|      2011| 13|        10대|  20240114|2024|  1| 14|젊은이|\n",
      "|Xg26DwowKYFG7ANqC...|고광수|       전기공학 기술자 및 연구원|  M|    A|    광주광역시|      2014| 10|        10대|  20240114|2024|  1| 14|젊은이|\n",
      "|ibbpcDBPYVtZrHMVm...|양지영|             장기 부사관 및 준위|  F|    B|    부산광역시|      1992| 32|        30대|  20240114|2024|  1| 14|젊은이|\n",
      "|kcvphW3SzzKKWcjY2...|최서현| 식품/섬유 공학 및 에너지 시험원|  F|    O|    대전광역시|      1939| 85|        80대|  20240114|2024|  1| 14|  노년|\n",
      "|nKiJNrsiEYy4isGSC...|오명자|   전기/전자 및 기계 공학 시험원|  F|    O|      충청북도|      2000| 24|        20대|  20240114|2024|  1| 14|젊은이|\n",
      "|KAPVbRwuwiTzXkMbA...|김지후|                      행사기획자|  M|   AB|    인천광역시|      1984| 40|        40대|  20240114|2024|  1| 14|  중년|\n",
      "|3J6BsLRfqem9fTdvY...|이성호|                        산업전공|  M|    O|      전라북도|      1916|108|   90대 이상|  20240114|2024|  1| 14|  노년|\n",
      "|E8c7fsVzyGrgtoj3j...|한성현|          보조 교사 및 기타 교사|  M|    A|    울산광역시|      2014| 10|        10대|  20240114|2024|  1| 14|젊은이|\n",
      "|gACJxp9hS5YWavwb6...|민지후|                 환경공학 시험원|  M|    O|      경상북도|      1973| 51|        50대|  20240114|2024|  1| 14|  중년|\n",
      "|SC2pgWH7Rxe4aCcKr...|한준호|       목재 가공관련 기계 조작원|  M|    O|      경상북도|      1925| 99|   90대 이상|  20240114|2024|  1| 14|  노년|\n",
      "|MTnHEHzN8PbjD43w8...|김지우|      광원/채석원 및 석재 절단원|  F|   AB|    부산광역시|      1998| 26|        20대|  20240114|2024|  1| 14|젊은이|\n",
      "|dZFsZ6Vmr53HoeT2t...|김상철|             세탁관련 기계조작원|  M|   AB|      전라남도|      1913|111|   90대 이상|  20240114|2024|  1| 14|  노년|\n",
      "|5PjS99aLCj3YtV6Uk...|안은경|        냉/난방 관련 설비 조작원|  F|   AB|세종특별자치시|      1938| 86|        80대|  20240114|2024|  1| 14|  노년|\n",
      "|Mavz6wqcm4m3Kszta...|김옥자|             정보통신관련 관리자|  F|    A|    대구광역시|      2022|  2|         0대|  20240114|2024|  1| 14|젊은이|\n",
      "+--------------------+------+--------------------------------+---+-----+--------------+----------+---+------------+----------+----+---+---+------+\n",
      "only showing top 20 rows\n",
      "\n"
     ]
    }
   ],
   "source": [
    "_query = \"\"\"\n",
    "SELECT *,\n",
    "CASE \n",
    "    WHEN age <40 THEN '젊은이'\n",
    "    WHEN age >=40 AND age < 70 THEN '중년'\n",
    "    ELSE '노년'\n",
    "END AS analy\n",
    "FROM fake\n",
    "\"\"\"\n",
    "\n",
    "qq(_query).show()"
   ]
  }
 ],
 "metadata": {
  "kernelspec": {
   "display_name": "Python 3 (ipykernel)",
   "language": "python",
   "name": "python3"
  },
  "language_info": {
   "codemirror_mode": {
    "name": "ipython",
    "version": 3
   },
   "file_extension": ".py",
   "mimetype": "text/x-python",
   "name": "python",
   "nbconvert_exporter": "python",
   "pygments_lexer": "ipython3",
   "version": "3.8.10"
  }
 },
 "nbformat": 4,
 "nbformat_minor": 5
}
