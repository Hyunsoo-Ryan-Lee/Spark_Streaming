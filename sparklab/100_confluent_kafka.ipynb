{
 "cells": [
  {
   "cell_type": "code",
   "execution_count": null,
   "id": "7a89b035-3a9c-4b52-950c-91d689623b6e",
   "metadata": {},
   "outputs": [],
   "source": [
    "!pip install confluent-kafka"
   ]
  },
  {
   "cell_type": "code",
   "execution_count": 1,
   "id": "0e543c56-6037-43f1-a90a-60b816ed5ac5",
   "metadata": {},
   "outputs": [],
   "source": [
    "from dataclasses import dataclass\n",
    "from confluent_kafka.admin import AdminClient, NewTopic, NewPartitions\n",
    "from confluent_kafka.admin import ConfigResource, ResourceType\n",
    "from confluent_kafka import Producer, Consumer, KafkaError, KafkaException"
   ]
  },
  {
   "cell_type": "code",
   "execution_count": 2,
   "id": "e0169a5f-0270-4d83-b5d7-847bb9094258",
   "metadata": {},
   "outputs": [],
   "source": [
    "bootstrap_servers = 'kafka1:19091,kafka1:19092,kafka1:19093'\n",
    "topic_name = 'hyunsoo'\n",
    "group_id = \"G1\"\n",
    "admin_client = AdminClient({'bootstrap.servers' : bootstrap_servers})"
   ]
  },
  {
   "cell_type": "code",
   "execution_count": 3,
   "id": "68caacf3-7a3d-457f-ab41-0e1eaad1ab90",
   "metadata": {},
   "outputs": [],
   "source": [
    "@dataclass\n",
    "class ConfluentKafka:\n",
    "    bootstrap_servers: str\n",
    "\n",
    "    def __post_init__(self):\n",
    "        self.admin_client =  AdminClient({'bootstrap.servers' : self.bootstrap_servers})\n",
    "        self.producer = Producer({'bootstrap.servers': self.bootstrap_servers})\n",
    "\n",
    "    def create_topic(self, topic_name, num_partitions, replication_factor):\n",
    "        new_topic = NewTopic(topic_name, num_partitions, replication_factor)\n",
    "        self.admin_client.create_topics([new_topic])\n",
    "\n",
    "    def list_topic(self):\n",
    "        topic_meta = self.admin_client.list_topics(timeout=10)\n",
    "        self.topic_list = topic_meta.topics\n",
    "        for topic in self.topic_list:\n",
    "            print(topic)\n",
    "            \n",
    "    def modify_partition(self, topic_name, partition_count):\n",
    "        new_partitions = NewPartitions(topic_name, new_total_count = partition_count)\n",
    "        self.admin_client.create_partitions([new_partitions])\n",
    "    \n",
    "    def describe_topic(self, topic_name):\n",
    "        topic_metadata = self.topic_list[topic_name]\n",
    "        return {\n",
    "            'partitions': len(topic_metadata.partitions),\n",
    "            'replication_factor': len(next(iter(topic_metadata.partitions.values())).replicas),\n",
    "            'config': admin_client.describe_configs([ConfigResource(ResourceType.TOPIC, topic_name)])[ConfigResource(ResourceType.TOPIC, topic_name)].result()\n",
    "        }\n",
    "\n",
    "    def delete_topic(self, topic_name):\n",
    "        self.admin_client.delete_topics([topic_name], operation_timeout=30)\n",
    "\n",
    "    def produce_message(self, topic_name, msg_value):\n",
    "        self.producer.produce(\n",
    "            topic = topic_name,\n",
    "            key = \"haha\",\n",
    "            value = msg_value.encode('utf-8'),\n",
    "            callback = lambda err, msg : print(f\"{msg.key().decode('utf-8')} : {msg.value().decode('utf-8')} => {msg.topic()}({msg.partition()})\")\n",
    "        )\n",
    "    \n",
    "        self.producer.flush()\n",
    "\n",
    "    def consumer(self, topic_name, group_id, offset):\n",
    "        consumer = Consumer({\n",
    "            'bootstrap.servers': self.bootstrap_servers,\n",
    "            'group.id': group_id,\n",
    "            'auto.offset.reset': offset\n",
    "        })\n",
    "        consumer.subscribe([topic_name])\n",
    "        return consumer\n",
    "\n",
    "    def consume_messages(self, consumer, timeout=1.0):\n",
    "        try:\n",
    "            while True:\n",
    "                msg = consumer.poll(timeout)\n",
    "                if msg is None:\n",
    "                    continue\n",
    "                if msg.error():\n",
    "                    if msg.error().code() == KafkaError._PARTITION_EOF:\n",
    "                        print('End of partition reached {0}/{1}'.format(msg.topic(), msg.partition()))\n",
    "                    elif msg.error():\n",
    "                        raise KafkaException(msg.error())\n",
    "                else:\n",
    "                    print(f\"{msg.key().decode('utf-8')}: {msg.value().decode('utf-8')}\")\n",
    "        except KeyboardInterrupt:\n",
    "            pass\n",
    "        finally:\n",
    "            consumer.close()"
   ]
  },
  {
   "cell_type": "code",
   "execution_count": 20,
   "id": "1d5ca544-b72b-4045-a8ad-bed2a32d4862",
   "metadata": {},
   "outputs": [],
   "source": [
    "ck = ConfluentKafka(bootstrap_servers)\n",
    "_topic = 'sink'\n",
    "ck.create_topic(_topic, 5, 3)"
   ]
  },
  {
   "cell_type": "code",
   "execution_count": 21,
   "id": "c9b6b92e-0c75-4328-97b0-51a224ba58a7",
   "metadata": {},
   "outputs": [
    {
     "name": "stdout",
     "output_type": "stream",
     "text": [
      "connect_offsets\n",
      "demo\n",
      "my_status_topic\n",
      "__consumer_offsets\n",
      "sink\n",
      "hyunsoo\n",
      "temp\n",
      "user\n",
      "connect_configs\n"
     ]
    }
   ],
   "source": [
    "ck.list_topic()"
   ]
  },
  {
   "cell_type": "code",
   "execution_count": 17,
   "id": "5b10628f-5bbb-4d89-8e09-b43d51ce94bc",
   "metadata": {},
   "outputs": [],
   "source": [
    "ck.delete_topic(_topic)"
   ]
  },
  {
   "cell_type": "code",
   "execution_count": 12,
   "id": "e5cf29ff-2bed-4fca-9e7f-770ecc421267",
   "metadata": {},
   "outputs": [
    {
     "data": {
      "text/plain": [
       "{'partitions': 4,\n",
       " 'replication_factor': 1,\n",
       " 'config': {'compression.type': ConfigEntry(compression.type=\"producer\"),\n",
       "  'leader.replication.throttled.replicas': ConfigEntry(leader.replication.throttled.replicas=\"\"),\n",
       "  'remote.storage.enable': ConfigEntry(remote.storage.enable=\"false\"),\n",
       "  'message.downconversion.enable': ConfigEntry(message.downconversion.enable=\"true\"),\n",
       "  'min.insync.replicas': ConfigEntry(min.insync.replicas=\"1\"),\n",
       "  'segment.jitter.ms': ConfigEntry(segment.jitter.ms=\"0\"),\n",
       "  'local.retention.ms': ConfigEntry(local.retention.ms=\"-2\"),\n",
       "  'cleanup.policy': ConfigEntry(cleanup.policy=\"delete\"),\n",
       "  'flush.ms': ConfigEntry(flush.ms=\"9223372036854775807\"),\n",
       "  'follower.replication.throttled.replicas': ConfigEntry(follower.replication.throttled.replicas=\"\"),\n",
       "  'segment.bytes': ConfigEntry(segment.bytes=\"1073741824\"),\n",
       "  'retention.ms': ConfigEntry(retention.ms=\"604800000\"),\n",
       "  'flush.messages': ConfigEntry(flush.messages=\"9223372036854775807\"),\n",
       "  'message.format.version': ConfigEntry(message.format.version=\"3.0-IV1\"),\n",
       "  'max.compaction.lag.ms': ConfigEntry(max.compaction.lag.ms=\"9223372036854775807\"),\n",
       "  'file.delete.delay.ms': ConfigEntry(file.delete.delay.ms=\"60000\"),\n",
       "  'max.message.bytes': ConfigEntry(max.message.bytes=\"1048588\"),\n",
       "  'min.compaction.lag.ms': ConfigEntry(min.compaction.lag.ms=\"0\"),\n",
       "  'message.timestamp.type': ConfigEntry(message.timestamp.type=\"CreateTime\"),\n",
       "  'local.retention.bytes': ConfigEntry(local.retention.bytes=\"-2\"),\n",
       "  'preallocate': ConfigEntry(preallocate=\"false\"),\n",
       "  'min.cleanable.dirty.ratio': ConfigEntry(min.cleanable.dirty.ratio=\"0.5\"),\n",
       "  'index.interval.bytes': ConfigEntry(index.interval.bytes=\"4096\"),\n",
       "  'unclean.leader.election.enable': ConfigEntry(unclean.leader.election.enable=\"false\"),\n",
       "  'retention.bytes': ConfigEntry(retention.bytes=\"-1\"),\n",
       "  'delete.retention.ms': ConfigEntry(delete.retention.ms=\"86400000\"),\n",
       "  'segment.ms': ConfigEntry(segment.ms=\"604800000\"),\n",
       "  'message.timestamp.difference.max.ms': ConfigEntry(message.timestamp.difference.max.ms=\"9223372036854775807\"),\n",
       "  'segment.index.bytes': ConfigEntry(segment.index.bytes=\"10485760\")}}"
      ]
     },
     "execution_count": 12,
     "metadata": {},
     "output_type": "execute_result"
    }
   ],
   "source": [
    "ck.describe_topic('demo')\n",
    "\n",
    "# ck.modify_partition(_topic, 2)"
   ]
  },
  {
   "cell_type": "code",
   "execution_count": 6,
   "id": "f9ee002d-82c1-40cc-a68a-62121f0e9400",
   "metadata": {},
   "outputs": [
    {
     "name": "stdout",
     "output_type": "stream",
     "text": [
      "haha : 10 => yein(4)\n",
      "haha : 11 => yein(4)\n",
      "haha : 12 => yein(4)\n",
      "haha : 13 => yein(4)\n",
      "haha : 14 => yein(4)\n",
      "haha : 15 => yein(4)\n",
      "haha : 16 => yein(4)\n",
      "haha : 17 => yein(4)\n",
      "haha : 18 => yein(4)\n",
      "haha : 19 => yein(4)\n"
     ]
    }
   ],
   "source": [
    "for i in range(10,20):\n",
    "    ck.produce_message(_topic, str(i))"
   ]
  },
  {
   "cell_type": "code",
   "execution_count": 5,
   "id": "0a3a837c-97e6-4284-8fa8-6c4476e14de9",
   "metadata": {},
   "outputs": [
    {
     "name": "stdout",
     "output_type": "stream",
     "text": [
      "haha: 10\n",
      "haha: 10\n",
      "haha: 11\n",
      "haha: 12\n",
      "haha: 13\n",
      "haha: 14\n",
      "haha: 15\n",
      "haha: 16\n",
      "haha: 17\n",
      "haha: 18\n",
      "haha: 19\n"
     ]
    }
   ],
   "source": [
    "cc = confkafka.consumer(_topic, group_id, \"earliest\")\n",
    "\n",
    "confkafka.consume_messages(cc)"
   ]
  },
  {
   "cell_type": "code",
   "execution_count": null,
   "id": "91ee125b-dc66-49cf-88f1-d1e4c045a69d",
   "metadata": {},
   "outputs": [],
   "source": []
  },
  {
   "cell_type": "code",
   "execution_count": 10,
   "id": "1804af2a-aacf-42a0-b7f3-bc051d60da9e",
   "metadata": {},
   "outputs": [
    {
     "data": {
      "text/plain": [
       "{'hyunsoo': <Future at 0x75cf22232e80 state=running>}"
      ]
     },
     "execution_count": 10,
     "metadata": {},
     "output_type": "execute_result"
    }
   ],
   "source": [
    "admin_client.delete_topics(['hyunsoo'], operation_timeout=30)"
   ]
  },
  {
   "cell_type": "code",
   "execution_count": 14,
   "id": "443647f2-01f1-49fc-8a21-c31bb3239d30",
   "metadata": {},
   "outputs": [],
   "source": [
    "from confluent_kafka import Producer, Consumer\n",
    "\n",
    "def create_producer(bootstrap_servers):\n",
    "    producer = Producer({'bootstrap.servers': bootstrap_servers})\n",
    "    return producer\n",
    "\n",
    "producer = create_producer(bootstrap_servers)"
   ]
  },
  {
   "cell_type": "code",
   "execution_count": 30,
   "id": "87d90edf-a07b-4a8c-bcc5-ac251860b0ce",
   "metadata": {},
   "outputs": [
    {
     "name": "stdout",
     "output_type": "stream",
     "text": [
      "haha : NUMBER => 1 => hyunsoo(0)\n",
      "haha : NUMBER => 2 => hyunsoo(0)\n",
      "haha : NUMBER => 3 => hyunsoo(0)\n",
      "haha : NUMBER => 4 => hyunsoo(0)\n",
      "haha : NUMBER => 5 => hyunsoo(0)\n",
      "haha : NUMBER => 6 => hyunsoo(0)\n",
      "haha : NUMBER => 7 => hyunsoo(0)\n",
      "haha : NUMBER => 8 => hyunsoo(0)\n",
      "haha : NUMBER => 9 => hyunsoo(0)\n"
     ]
    }
   ],
   "source": [
    "for val in range(1,10):\n",
    "    send_msg = f\"NUMBER => {val}\"\n",
    "\n",
    "    producer.produce(\n",
    "        topic = topic_name,\n",
    "        key = \"haha\",\n",
    "        value = send_msg.encode('utf-8'),\n",
    "        callback = lambda err, msg : print(f\"{msg.key().decode('utf-8')} : {msg.value().decode('utf-8')} => {msg.topic()}({msg.partition()})\")\n",
    "    )\n",
    "\n",
    "    producer.flush()"
   ]
  },
  {
   "cell_type": "code",
   "execution_count": 26,
   "id": "dcfc8d25-1ec9-47c6-bd81-6b6bd9a5aa97",
   "metadata": {},
   "outputs": [],
   "source": [
    "def create_consumer(bootstrap_servers, group_id, topics):\n",
    "    consumer = Consumer({\n",
    "        'bootstrap.servers': bootstrap_servers,\n",
    "        'group.id': group_id,\n",
    "        'auto.offset.reset': 'earliest'\n",
    "    })\n",
    "    consumer.subscribe([topics])\n",
    "    return consumer\n",
    "\n",
    "consumer = create_consumer(bootstrap_servers, group_id, topic_name)"
   ]
  },
  {
   "cell_type": "code",
   "execution_count": 27,
   "id": "e26df8e2-5895-4e98-85b3-d26765647dc7",
   "metadata": {},
   "outputs": [
    {
     "name": "stdout",
     "output_type": "stream",
     "text": [
      "haha: NUMBER => 1\n",
      "haha: NUMBER => 2\n",
      "haha: NUMBER => 3\n",
      "haha: NUMBER => 4\n",
      "haha: NUMBER => 5\n",
      "haha: NUMBER => 6\n",
      "haha: NUMBER => 7\n",
      "haha: NUMBER => 8\n",
      "haha: NUMBER => 9\n",
      "haha: NUMBER => 1\n",
      "haha: NUMBER => 2\n",
      "haha: NUMBER => 3\n",
      "haha: NUMBER => 4\n",
      "haha: NUMBER => 5\n",
      "haha: NUMBER => 6\n",
      "haha: NUMBER => 7\n",
      "haha: NUMBER => 8\n",
      "haha: NUMBER => 9\n",
      "haha: NUMBER => 1\n",
      "haha: NUMBER => 1\n",
      "haha: NUMBER => 2\n",
      "haha: NUMBER => 3\n",
      "haha: NUMBER => 4\n",
      "haha: NUMBER => 5\n",
      "haha: NUMBER => 6\n",
      "haha: NUMBER => 7\n",
      "haha: NUMBER => 8\n",
      "haha: NUMBER => 9\n",
      "haha: NUMBER => 1\n",
      "haha: NUMBER => 2\n",
      "haha: NUMBER => 3\n",
      "haha: NUMBER => 4\n",
      "haha: NUMBER => 5\n",
      "haha: NUMBER => 6\n",
      "haha: NUMBER => 7\n",
      "haha: NUMBER => 8\n",
      "haha: NUMBER => 9\n"
     ]
    }
   ],
   "source": [
    "def consume_messages(consumer, timeout=1.0):\n",
    "    try:\n",
    "        while True:\n",
    "            msg = consumer.poll(timeout)\n",
    "            if msg is None:\n",
    "                continue\n",
    "            if msg.error():\n",
    "                if msg.error().code() == KafkaError._PARTITION_EOF:\n",
    "                    print('End of partition reached {0}/{1}'.format(msg.topic(), msg.partition()))\n",
    "                elif msg.error():\n",
    "                    raise KafkaException(msg.error())\n",
    "            else:\n",
    "                print(f\"{msg.key().decode('utf-8')}: {msg.value().decode('utf-8')}\")\n",
    "    except KeyboardInterrupt:\n",
    "        pass\n",
    "    finally:\n",
    "        consumer.close()\n",
    "\n",
    "consume_messages(consumer)"
   ]
  }
 ],
 "metadata": {
  "kernelspec": {
   "display_name": "Python 3 (ipykernel)",
   "language": "python",
   "name": "python3"
  },
  "language_info": {
   "codemirror_mode": {
    "name": "ipython",
    "version": 3
   },
   "file_extension": ".py",
   "mimetype": "text/x-python",
   "name": "python",
   "nbconvert_exporter": "python",
   "pygments_lexer": "ipython3",
   "version": "3.8.10"
  }
 },
 "nbformat": 4,
 "nbformat_minor": 5
}
