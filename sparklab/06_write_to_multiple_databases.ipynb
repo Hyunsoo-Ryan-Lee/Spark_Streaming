{
 "cells": [
  {
   "cell_type": "code",
   "execution_count": 3,
   "id": "b571f43d-2d6a-4840-b560-da78bbe5eb43",
   "metadata": {
    "tags": []
   },
   "outputs": [],
   "source": [
    "# Create the Spark Session\n",
    "from pyspark.sql import SparkSession\n",
    "from pyspark.sql import types as T\n",
    "from pyspark.sql import window as W\n",
    "from pyspark.sql import functions as F\n",
    "from dataset.fakedata import create_fakeuser\n",
    "\n",
    "spark = (\n",
    "    SparkSession \n",
    "    .builder \n",
    "    .appName(\"06_write_to_multiple_databases\") \n",
    "    .config(\"spark.streaming.stopGracefullyOnShutdown\", True) \n",
    "    .config('spark.jars.packages', 'org.apache.spark:spark-sql-kafka-0-10_2.12:3.3.0')\n",
    "    .config(\"spark.driver.extraClassPath\", \"./jdbc/mysql-connector-j-8.4.0.jar:./jdbc/postgresql-42.7.3.jar\") \\\n",
    "    .config(\"spark.sql.shuffle.partitions\", 8)\n",
    "    .master(\"local[*]\") \n",
    "    .getOrCreate()\n",
    ")"
   ]
  },
  {
   "cell_type": "markdown",
   "id": "5e63ed35-04a0-4c04-8a0f-8be88e0ffa3f",
   "metadata": {},
   "source": [
    "#### 1. mysql, postgresql connection test"
   ]
  },
  {
   "cell_type": "code",
   "execution_count": 4,
   "id": "79e905e7-3e93-43e2-b908-c65dd8555e08",
   "metadata": {
    "tags": []
   },
   "outputs": [
    {
     "name": "stdout",
     "output_type": "stream",
     "text": [
      "+--------------------+--------------------+----+--------------------+--------------------+----------+---------+-------+-------+-------+-------+--------+--------+---------+----------+----------+---------------+\n",
      "|                name|             setting|unit|            category|          short_desc|extra_desc|  context|vartype| source|min_val|max_val|enumvals|boot_val|reset_val|sourcefile|sourceline|pending_restart|\n",
      "+--------------------+--------------------+----+--------------------+--------------------+----------+---------+-------+-------+-------+-------+--------+--------+---------+----------+----------+---------------+\n",
      "|allow_in_place_ta...|                 off|null|   Developer Options|Allows tablespace...|      null|superuser|   bool|default|   null|   null|    null|     off|      off|      null|      null|          false|\n",
      "|allow_system_tabl...|                 off|null|   Developer Options|Allows modificati...|      null|superuser|   bool|default|   null|   null|    null|     off|      off|      null|      null|          false|\n",
      "|    application_name|PostgreSQL JDBC D...|null|Reporting and Log...|Sets the applicat...|      null|     user| string|session|   null|   null|    null|        |         |      null|      null|          false|\n",
      "+--------------------+--------------------+----+--------------------+--------------------+----------+---------+-------+-------+-------+-------+--------+--------+---------+----------+----------+---------------+\n",
      "only showing top 3 rows\n",
      "\n"
     ]
    }
   ],
   "source": [
    "sql = \"SELECT * FROM pg_settings\"\n",
    "\n",
    "df_pg = spark.read.format(\"jdbc\") \\\n",
    "                    .option(\"url\", f\"jdbc:postgresql://dockercompose-postgres-1:5432/postgres\") \\\n",
    "                    .option(\"driver\", \"org.postgresql.Driver\") \\\n",
    "                    .option(\"query\", sql) \\\n",
    "                    .option(\"user\", \"yein\") \\\n",
    "                    .option(\"password\", \"941021\") \\\n",
    "                    .load()\n",
    "\n",
    "df_pg.show(3)"
   ]
  },
  {
   "cell_type": "code",
   "execution_count": 5,
   "id": "9c2247fd-93b2-4a40-b4c1-a4f09c60eabb",
   "metadata": {
    "tags": []
   },
   "outputs": [
    {
     "name": "stdout",
     "output_type": "stream",
     "text": [
      "+-----+---------+-----------+--------------------+------------------+--------------------+---+-----------+--------------------+\n",
      "|index|birthdate|blood_group|                 job|              name|           residence|sex|        ssn|                uuid|\n",
      "+-----+---------+-----------+--------------------+------------------+--------------------+---+-----------+--------------------+\n",
      "|    0| 19810916|        AB+|Psychologist, pri...|      James Murray|PSC 1544, Box 316...|  M|741-53-6179|Cb7TYKQGDVZrB84Fo...|\n",
      "|    1| 19580109|        AB-|Child psychothera...|     Sydney Weaver|96697 Marissa Byp...|  F|576-98-7289|4huCF5xaAGPLHyEpN...|\n",
      "|    2| 19880909|         O+|Production assist...|Dr. Valerie Wagner|4981 Smith Prairi...|  F|196-87-0323|8AdYZ52fqepNjcizR...|\n",
      "+-----+---------+-----------+--------------------+------------------+--------------------+---+-----------+--------------------+\n",
      "only showing top 3 rows\n",
      "\n"
     ]
    }
   ],
   "source": [
    "sql = \"select * from fakeuser\"\n",
    "\n",
    "df_mysql = spark.read.format(\"jdbc\") \\\n",
    "                    .option(\"url\", f\"jdbc:mysql://dockercompose-mysql-1:3306/dataops\") \\\n",
    "                    .option(\"driver\", \"com.mysql.cj.jdbc.Driver\") \\\n",
    "                    .option(\"query\", sql) \\\n",
    "                    .option(\"user\", \"hyunsoo\") \\\n",
    "                    .option(\"password\", \"910506\") \\\n",
    "                    .load()\n",
    "\n",
    "df_mysql.show(3)"
   ]
  },
  {
   "cell_type": "markdown",
   "id": "5fd4a1e7-2baf-42aa-9102-fad28b01a9ce",
   "metadata": {},
   "source": [
    "#### 2. write functions"
   ]
  },
  {
   "cell_type": "code",
   "execution_count": 7,
   "id": "7614099d-4055-4bb3-aeec-bf53e8eb3486",
   "metadata": {
    "tags": []
   },
   "outputs": [],
   "source": [
    "def write_file(df, fmt, path):\n",
    "    df.write.format(fmt).mode(\"append\").option(\"header\", \"true\").save(path)\n",
    "    \n",
    "def write_mysql(df, db_name, table_name):\n",
    "    df.write \\\n",
    "    .mode(\"append\") \\\n",
    "    .format(\"jdbc\") \\\n",
    "    .option(\"driver\", \"com.mysql.cj.jdbc.Driver\") \\\n",
    "    .option(\"url\", f\"jdbc:mysql://dockercompose-mysql-1:3306/{db_name}\") \\\n",
    "    .option(\"dbtable\", table_name) \\\n",
    "    .option(\"user\", \"hyunsoo\") \\\n",
    "    .option(\"password\", \"910506\") \\\n",
    "    .save()    \n",
    "    \n",
    "def write_postgres(df, db_name, table_name):\n",
    "    df.write \\\n",
    "    .mode(\"append\") \\\n",
    "    .format(\"jdbc\") \\\n",
    "    .option(\"driver\", \"org.postgresql.Driver\") \\\n",
    "    .option(\"url\", f\"jdbc:postgresql://dockercompose-postgres-1:5432/{db_name}\") \\\n",
    "    .option(\"dbtable\", table_name) \\\n",
    "    .option(\"user\", \"yein\") \\\n",
    "    .option(\"password\", \"941021\") \\\n",
    "    .save()    "
   ]
  },
  {
   "cell_type": "code",
   "execution_count": 8,
   "id": "b7fed8a3-a7cb-4c22-aad6-ab4be6fc4f3f",
   "metadata": {
    "tags": []
   },
   "outputs": [],
   "source": [
    "topic_name = \"fake\"\n",
    "\n",
    "kafka_df = spark.readStream \\\n",
    "    .format(\"kafka\") \\\n",
    "    .option(\"kafka.bootstrap.servers\", \"kafka1:19091,kafka2:19092,kafka3:19093\") \\\n",
    "    .option(\"subscribe\", topic_name) \\\n",
    "    .option(\"startingOffsets\", \"latest\") \\\n",
    "    .load()"
   ]
  },
  {
   "cell_type": "code",
   "execution_count": 9,
   "id": "5ec081b8-4616-407f-aea7-35698764635f",
   "metadata": {},
   "outputs": [],
   "source": [
    "schema = T.StructType([\n",
    "    T.StructField(\"birthdate\", T.StringType()),\n",
    "    T.StructField(\"blood_group\", T.StringType()),\n",
    "    T.StructField(\"job\", T.StringType()),\n",
    "    T.StructField(\"name\", T.StringType()),\n",
    "    T.StructField(\"residence\", T.StringType()),\n",
    "    T.StructField(\"sex\", T.StringType()),\n",
    "    T.StructField(\"ssn\", T.StringType()),\n",
    "    T.StructField(\"uuid\", T.StringType()),\n",
    "    T.StructField(\"timestamp\", T.TimestampType()),\n",
    "    ])"
   ]
  },
  {
   "cell_type": "code",
   "execution_count": 10,
   "id": "6af4658d-2c93-4c19-a416-0b90c02e956f",
   "metadata": {
    "tags": []
   },
   "outputs": [],
   "source": [
    "value_df = kafka_df.select(F.from_json(F.col(\"value\").cast(\"string\"), schema).alias(\"value\"))\n",
    "\n",
    "processed_df = value_df.selectExpr(\n",
    "    \"value.birthdate\", \n",
    "    \"value.blood_group\", \n",
    "    \"value.job\",\n",
    "    \"value.name\",\n",
    "    \"value.residence\",\n",
    "    \"value.sex\",\n",
    "    \"value.ssn\",\n",
    "    \"value.uuid\",\n",
    "    \"value.timestamp\"\n",
    ")"
   ]
  },
  {
   "cell_type": "markdown",
   "id": "5a31e748-3a37-4fb3-ac7c-b5222c1faab7",
   "metadata": {},
   "source": [
    "#### write to multiple databases"
   ]
  },
  {
   "cell_type": "code",
   "execution_count": 11,
   "id": "eb58d80c-54dc-49f0-b785-4877c95b67d4",
   "metadata": {
    "tags": []
   },
   "outputs": [],
   "source": [
    "def data_output(df, batch_id):\n",
    "    print(f\"BATCH ID : {batch_id}\")\n",
    "    \n",
    "    # write to MYSQL\n",
    "    write_mysql(df, \"dataops\", \"mysql_demo\")\n",
    "    \n",
    "    # write to postgres\n",
    "    write_postgres(df, \"postgres\", \"postgres_demo\")\n",
    "    df.show()"
   ]
  },
  {
   "cell_type": "code",
   "execution_count": 12,
   "id": "de8c024d-a636-48cb-b0e6-c2a6f478161b",
   "metadata": {
    "tags": []
   },
   "outputs": [
    {
     "name": "stdout",
     "output_type": "stream",
     "text": [
      "BATCH ID : 0\n",
      "+---------+-----------+---+----+---------+---+---+----+---------+\n",
      "|birthdate|blood_group|job|name|residence|sex|ssn|uuid|timestamp|\n",
      "+---------+-----------+---+----+---------+---+---+----+---------+\n",
      "+---------+-----------+---+----+---------+---+---+----+---------+\n",
      "\n",
      "BATCH ID : 1\n",
      "+---------+-----------+--------------------+----------------+--------------------+---+-----------+--------------------+-------------------+\n",
      "|birthdate|blood_group|                 job|            name|           residence|sex|        ssn|                uuid|          timestamp|\n",
      "+---------+-----------+--------------------+----------------+--------------------+---+-----------+--------------------+-------------------+\n",
      "| 19100307|         O-|Horticulturist, c...|Jeffrey Williams|67312 Moss Ramp A...|  M|320-73-8383|j3GvuZ6gbGQZQoRQb...|2024-05-15 14:37:47|\n",
      "| 19430719|         B-|Politician's assi...|Rebecca Campbell|4304 Nancy Field ...|  F|595-93-9767|jmEGgka46tbGNbvcL...|2024-05-15 14:37:49|\n",
      "| 19860408|        AB+|Therapist, hortic...|     Lisa Knight|2810 Shawn Tunnel...|  F|682-67-7917|4oxPLXck7PUtZc2Xa...|2024-05-15 14:37:48|\n",
      "+---------+-----------+--------------------+----------------+--------------------+---+-----------+--------------------+-------------------+\n",
      "\n",
      "BATCH ID : 2\n",
      "+---------+-----------+--------------------+---------------+--------------------+---+-----------+--------------------+-------------------+\n",
      "|birthdate|blood_group|                 job|           name|           residence|sex|        ssn|                uuid|          timestamp|\n",
      "+---------+-----------+--------------------+---------------+--------------------+---+-----------+--------------------+-------------------+\n",
      "| 19430317|         B-|          Astronomer| Anthony Taylor|0949 Lee Stream\\n...|  M|189-32-6738|mgP29i4EES3bHiC9h...|2024-05-15 14:37:52|\n",
      "| 20030407|         O-|English as a seco...|    Jason Johns|USNS Cooper\\nFPO ...|  M|284-10-6683|YNUjyaPngLqGzAFMd...|2024-05-15 14:37:51|\n",
      "| 19511116|         O-|     Psychotherapist|     Adam Smith|467 Aguilar Green...|  M|087-08-3597|RaVtFCd3KsgiDN7kY...|2024-05-15 14:37:54|\n",
      "| 20230602|         O-|   Building surveyor|Shannon Hawkins|9364 Cooper Strav...|  F|448-77-3432|JUSsXiPQYcoRZCuPd...|2024-05-15 14:37:53|\n",
      "| 20140118|         B+|Surveyor, hydrogr...|    John Sparks|1770 Dunn Highway...|  M|493-80-4374|ZUz7NnDWusgpmys5d...|2024-05-15 14:37:50|\n",
      "+---------+-----------+--------------------+---------------+--------------------+---+-----------+--------------------+-------------------+\n",
      "\n",
      "BATCH ID : 3\n",
      "+---------+-----------+--------------------+------------------+--------------------+---+-----------+--------------------+-------------------+\n",
      "|birthdate|blood_group|                 job|              name|           residence|sex|        ssn|                uuid|          timestamp|\n",
      "+---------+-----------+--------------------+------------------+--------------------+---+-----------+--------------------+-------------------+\n",
      "| 19500818|         A-|      Radio producer|        Tammy Mack|759 Anderson Stre...|  F|278-55-3402|m4oiMrbbkLK9Tf3N8...|2024-05-15 14:37:55|\n",
      "| 19340729|         A+|Investment banker...|     Jessica Kelly|8005 Melissa Summ...|  F|843-22-8641|3MN5bcf7FzNxhBa7b...|2024-05-15 14:37:56|\n",
      "| 19641001|         B-|  Wellsite geologist|     Rebecca Nixon|8568 White Fords ...|  F|309-85-7384|LTm6FQVZ4G7BotrnD...|2024-05-15 14:37:59|\n",
      "| 19860618|        AB-| Geologist, wellsite|Michele Torres DDS|0550 Mary Cliffs\\...|  F|896-03-7260|ZDQxZmTqUrG5i2KzS...|2024-05-15 14:37:57|\n",
      "| 19740330|         A-|     Event organiser|   Patricia Wright|7070 Jessica Isla...|  F|866-41-0526|F5sv9sCbVw8NGRSbq...|2024-05-15 14:37:58|\n",
      "+---------+-----------+--------------------+------------------+--------------------+---+-----------+--------------------+-------------------+\n",
      "\n",
      "BATCH ID : 4\n",
      "+---------+-----------+--------------------+-----------------+--------------------+---+-----------+--------------------+-------------------+\n",
      "|birthdate|blood_group|                 job|             name|           residence|sex|        ssn|                uuid|          timestamp|\n",
      "+---------+-----------+--------------------+-----------------+--------------------+---+-----------+--------------------+-------------------+\n",
      "| 19710607|         A-|   Warehouse manager|   Kelly Marshall|57171 King Route ...|  M|004-52-3003|KruGvVVsBfsyLxq4L...|2024-05-15 14:38:02|\n",
      "| 19590402|         O-|Pharmacist, commu...|   Cassandra Pena|165 Wendy Mill\\nE...|  F|865-12-7729|9wZS8ZrNGZxEbik4L...|2024-05-15 14:38:01|\n",
      "| 20130207|        AB-|Engineer, automotive|       John Gomez|6512 Gabrielle Ga...|  M|178-32-9877|gBdgHcj8unWDawwFJ...|2024-05-15 14:38:00|\n",
      "| 19841203|         O-|Technical sales e...|Christine Preston|PSC 5189, Box 334...|  F|581-08-4549|iQswEgyDAn8698RbP...|2024-05-15 14:38:03|\n",
      "+---------+-----------+--------------------+-----------------+--------------------+---+-----------+--------------------+-------------------+\n",
      "\n"
     ]
    },
    {
     "name": "stderr",
     "output_type": "stream",
     "text": [
      "ERROR:root:KeyboardInterrupt while sending command.\n",
      "Traceback (most recent call last):\n",
      "  File \"/spark/python/lib/py4j-0.10.9.5-src.zip/py4j/java_gateway.py\", line 1038, in send_command\n",
      "    response = connection.send_command(command)\n",
      "  File \"/spark/python/lib/py4j-0.10.9.5-src.zip/py4j/clientserver.py\", line 511, in send_command\n",
      "    answer = smart_decode(self.stream.readline()[:-1])\n",
      "  File \"/usr/local/lib/python3.7/socket.py\", line 589, in readinto\n",
      "    return self._sock.recv_into(b)\n",
      "KeyboardInterrupt\n"
     ]
    },
    {
     "ename": "KeyboardInterrupt",
     "evalue": "",
     "output_type": "error",
     "traceback": [
      "\u001b[0;31m---------------------------------------------------------------------------\u001b[0m",
      "\u001b[0;31mKeyboardInterrupt\u001b[0m                         Traceback (most recent call last)",
      "\u001b[0;32m/tmp/ipykernel_2156/611063419.py\u001b[0m in \u001b[0;36m<module>\u001b[0;34m\u001b[0m\n\u001b[1;32m      5\u001b[0m     \u001b[0;34m.\u001b[0m\u001b[0mstart\u001b[0m\u001b[0;34m(\u001b[0m\u001b[0;34m)\u001b[0m\u001b[0;34m\u001b[0m\u001b[0;34m\u001b[0m\u001b[0m\n\u001b[1;32m      6\u001b[0m \u001b[0;34m\u001b[0m\u001b[0m\n\u001b[0;32m----> 7\u001b[0;31m \u001b[0mdf_batch\u001b[0m\u001b[0;34m.\u001b[0m\u001b[0mawaitTermination\u001b[0m\u001b[0;34m(\u001b[0m\u001b[0;34m)\u001b[0m\u001b[0;34m\u001b[0m\u001b[0;34m\u001b[0m\u001b[0m\n\u001b[0m",
      "\u001b[0;32m/spark/python/pyspark/sql/streaming.py\u001b[0m in \u001b[0;36mawaitTermination\u001b[0;34m(self, timeout)\u001b[0m\n\u001b[1;32m    105\u001b[0m             \u001b[0;32mreturn\u001b[0m \u001b[0mself\u001b[0m\u001b[0;34m.\u001b[0m\u001b[0m_jsq\u001b[0m\u001b[0;34m.\u001b[0m\u001b[0mawaitTermination\u001b[0m\u001b[0;34m(\u001b[0m\u001b[0mint\u001b[0m\u001b[0;34m(\u001b[0m\u001b[0mtimeout\u001b[0m \u001b[0;34m*\u001b[0m \u001b[0;36m1000\u001b[0m\u001b[0;34m)\u001b[0m\u001b[0;34m)\u001b[0m\u001b[0;34m\u001b[0m\u001b[0;34m\u001b[0m\u001b[0m\n\u001b[1;32m    106\u001b[0m         \u001b[0;32melse\u001b[0m\u001b[0;34m:\u001b[0m\u001b[0;34m\u001b[0m\u001b[0;34m\u001b[0m\u001b[0m\n\u001b[0;32m--> 107\u001b[0;31m             \u001b[0;32mreturn\u001b[0m \u001b[0mself\u001b[0m\u001b[0;34m.\u001b[0m\u001b[0m_jsq\u001b[0m\u001b[0;34m.\u001b[0m\u001b[0mawaitTermination\u001b[0m\u001b[0;34m(\u001b[0m\u001b[0;34m)\u001b[0m\u001b[0;34m\u001b[0m\u001b[0;34m\u001b[0m\u001b[0m\n\u001b[0m\u001b[1;32m    108\u001b[0m \u001b[0;34m\u001b[0m\u001b[0m\n\u001b[1;32m    109\u001b[0m     \u001b[0;34m@\u001b[0m\u001b[0mproperty\u001b[0m  \u001b[0;31m# type: ignore[misc]\u001b[0m\u001b[0;34m\u001b[0m\u001b[0;34m\u001b[0m\u001b[0m\n",
      "\u001b[0;32m/spark/python/lib/py4j-0.10.9.5-src.zip/py4j/java_gateway.py\u001b[0m in \u001b[0;36m__call__\u001b[0;34m(self, *args)\u001b[0m\n\u001b[1;32m   1318\u001b[0m             \u001b[0mproto\u001b[0m\u001b[0;34m.\u001b[0m\u001b[0mEND_COMMAND_PART\u001b[0m\u001b[0;34m\u001b[0m\u001b[0;34m\u001b[0m\u001b[0m\n\u001b[1;32m   1319\u001b[0m \u001b[0;34m\u001b[0m\u001b[0m\n\u001b[0;32m-> 1320\u001b[0;31m         \u001b[0manswer\u001b[0m \u001b[0;34m=\u001b[0m \u001b[0mself\u001b[0m\u001b[0;34m.\u001b[0m\u001b[0mgateway_client\u001b[0m\u001b[0;34m.\u001b[0m\u001b[0msend_command\u001b[0m\u001b[0;34m(\u001b[0m\u001b[0mcommand\u001b[0m\u001b[0;34m)\u001b[0m\u001b[0;34m\u001b[0m\u001b[0;34m\u001b[0m\u001b[0m\n\u001b[0m\u001b[1;32m   1321\u001b[0m         return_value = get_return_value(\n\u001b[1;32m   1322\u001b[0m             answer, self.gateway_client, self.target_id, self.name)\n",
      "\u001b[0;32m/spark/python/lib/py4j-0.10.9.5-src.zip/py4j/java_gateway.py\u001b[0m in \u001b[0;36msend_command\u001b[0;34m(self, command, retry, binary)\u001b[0m\n\u001b[1;32m   1036\u001b[0m         \u001b[0mconnection\u001b[0m \u001b[0;34m=\u001b[0m \u001b[0mself\u001b[0m\u001b[0;34m.\u001b[0m\u001b[0m_get_connection\u001b[0m\u001b[0;34m(\u001b[0m\u001b[0;34m)\u001b[0m\u001b[0;34m\u001b[0m\u001b[0;34m\u001b[0m\u001b[0m\n\u001b[1;32m   1037\u001b[0m         \u001b[0;32mtry\u001b[0m\u001b[0;34m:\u001b[0m\u001b[0;34m\u001b[0m\u001b[0;34m\u001b[0m\u001b[0m\n\u001b[0;32m-> 1038\u001b[0;31m             \u001b[0mresponse\u001b[0m \u001b[0;34m=\u001b[0m \u001b[0mconnection\u001b[0m\u001b[0;34m.\u001b[0m\u001b[0msend_command\u001b[0m\u001b[0;34m(\u001b[0m\u001b[0mcommand\u001b[0m\u001b[0;34m)\u001b[0m\u001b[0;34m\u001b[0m\u001b[0;34m\u001b[0m\u001b[0m\n\u001b[0m\u001b[1;32m   1039\u001b[0m             \u001b[0;32mif\u001b[0m \u001b[0mbinary\u001b[0m\u001b[0;34m:\u001b[0m\u001b[0;34m\u001b[0m\u001b[0;34m\u001b[0m\u001b[0m\n\u001b[1;32m   1040\u001b[0m                 \u001b[0;32mreturn\u001b[0m \u001b[0mresponse\u001b[0m\u001b[0;34m,\u001b[0m \u001b[0mself\u001b[0m\u001b[0;34m.\u001b[0m\u001b[0m_create_connection_guard\u001b[0m\u001b[0;34m(\u001b[0m\u001b[0mconnection\u001b[0m\u001b[0;34m)\u001b[0m\u001b[0;34m\u001b[0m\u001b[0;34m\u001b[0m\u001b[0m\n",
      "\u001b[0;32m/spark/python/lib/py4j-0.10.9.5-src.zip/py4j/clientserver.py\u001b[0m in \u001b[0;36msend_command\u001b[0;34m(self, command)\u001b[0m\n\u001b[1;32m    509\u001b[0m         \u001b[0;32mtry\u001b[0m\u001b[0;34m:\u001b[0m\u001b[0;34m\u001b[0m\u001b[0;34m\u001b[0m\u001b[0m\n\u001b[1;32m    510\u001b[0m             \u001b[0;32mwhile\u001b[0m \u001b[0;32mTrue\u001b[0m\u001b[0;34m:\u001b[0m\u001b[0;34m\u001b[0m\u001b[0;34m\u001b[0m\u001b[0m\n\u001b[0;32m--> 511\u001b[0;31m                 \u001b[0manswer\u001b[0m \u001b[0;34m=\u001b[0m \u001b[0msmart_decode\u001b[0m\u001b[0;34m(\u001b[0m\u001b[0mself\u001b[0m\u001b[0;34m.\u001b[0m\u001b[0mstream\u001b[0m\u001b[0;34m.\u001b[0m\u001b[0mreadline\u001b[0m\u001b[0;34m(\u001b[0m\u001b[0;34m)\u001b[0m\u001b[0;34m[\u001b[0m\u001b[0;34m:\u001b[0m\u001b[0;34m-\u001b[0m\u001b[0;36m1\u001b[0m\u001b[0;34m]\u001b[0m\u001b[0;34m)\u001b[0m\u001b[0;34m\u001b[0m\u001b[0;34m\u001b[0m\u001b[0m\n\u001b[0m\u001b[1;32m    512\u001b[0m                 \u001b[0mlogger\u001b[0m\u001b[0;34m.\u001b[0m\u001b[0mdebug\u001b[0m\u001b[0;34m(\u001b[0m\u001b[0;34m\"Answer received: {0}\"\u001b[0m\u001b[0;34m.\u001b[0m\u001b[0mformat\u001b[0m\u001b[0;34m(\u001b[0m\u001b[0manswer\u001b[0m\u001b[0;34m)\u001b[0m\u001b[0;34m)\u001b[0m\u001b[0;34m\u001b[0m\u001b[0;34m\u001b[0m\u001b[0m\n\u001b[1;32m    513\u001b[0m                 \u001b[0;31m# Happens when a the other end is dead. There might be an empty\u001b[0m\u001b[0;34m\u001b[0m\u001b[0;34m\u001b[0m\u001b[0;34m\u001b[0m\u001b[0m\n",
      "\u001b[0;32m/usr/local/lib/python3.7/socket.py\u001b[0m in \u001b[0;36mreadinto\u001b[0;34m(self, b)\u001b[0m\n\u001b[1;32m    587\u001b[0m         \u001b[0;32mwhile\u001b[0m \u001b[0;32mTrue\u001b[0m\u001b[0;34m:\u001b[0m\u001b[0;34m\u001b[0m\u001b[0;34m\u001b[0m\u001b[0m\n\u001b[1;32m    588\u001b[0m             \u001b[0;32mtry\u001b[0m\u001b[0;34m:\u001b[0m\u001b[0;34m\u001b[0m\u001b[0;34m\u001b[0m\u001b[0m\n\u001b[0;32m--> 589\u001b[0;31m                 \u001b[0;32mreturn\u001b[0m \u001b[0mself\u001b[0m\u001b[0;34m.\u001b[0m\u001b[0m_sock\u001b[0m\u001b[0;34m.\u001b[0m\u001b[0mrecv_into\u001b[0m\u001b[0;34m(\u001b[0m\u001b[0mb\u001b[0m\u001b[0;34m)\u001b[0m\u001b[0;34m\u001b[0m\u001b[0;34m\u001b[0m\u001b[0m\n\u001b[0m\u001b[1;32m    590\u001b[0m             \u001b[0;32mexcept\u001b[0m \u001b[0mtimeout\u001b[0m\u001b[0;34m:\u001b[0m\u001b[0;34m\u001b[0m\u001b[0;34m\u001b[0m\u001b[0m\n\u001b[1;32m    591\u001b[0m                 \u001b[0mself\u001b[0m\u001b[0;34m.\u001b[0m\u001b[0m_timeout_occurred\u001b[0m \u001b[0;34m=\u001b[0m \u001b[0;32mTrue\u001b[0m\u001b[0;34m\u001b[0m\u001b[0;34m\u001b[0m\u001b[0m\n",
      "\u001b[0;31mKeyboardInterrupt\u001b[0m: "
     ]
    }
   ],
   "source": [
    "df_batch = processed_df.writeStream \\\n",
    "    .foreachBatch(data_output) \\\n",
    "    .option(\"checkpointLocation\", \"checkpoint_dir/06_write_to_multiple_databases\") \\\n",
    "    .trigger(processingTime=\"5 seconds\") \\\n",
    "    .start()\n",
    "\n",
    "df_batch.awaitTermination()"
   ]
  },
  {
   "cell_type": "code",
   "execution_count": null,
   "id": "f34ce032-b79a-4031-951d-b210a8c72aaf",
   "metadata": {},
   "outputs": [],
   "source": []
  },
  {
   "cell_type": "code",
   "execution_count": null,
   "id": "f21329f3-3a1d-4353-a35c-b03efd9c6e1e",
   "metadata": {},
   "outputs": [],
   "source": []
  }
 ],
 "metadata": {
  "kernelspec": {
   "display_name": "Python 3 (ipykernel)",
   "language": "python",
   "name": "python3"
  },
  "language_info": {
   "codemirror_mode": {
    "name": "ipython",
    "version": 3
   },
   "file_extension": ".py",
   "mimetype": "text/x-python",
   "name": "python",
   "nbconvert_exporter": "python",
   "pygments_lexer": "ipython3",
   "version": "3.7.10"
  }
 },
 "nbformat": 4,
 "nbformat_minor": 5
}
