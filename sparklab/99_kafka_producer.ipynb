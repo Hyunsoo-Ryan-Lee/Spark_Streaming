{
 "cells": [
  {
   "cell_type": "code",
   "execution_count": 5,
   "id": "126b6a86-b33d-4663-b837-7ae314644fa3",
   "metadata": {
    "tags": []
   },
   "outputs": [],
   "source": [
    "import time, json\n",
    "from kafka import KafkaProducer\n",
    "from data_generator.fakedata import create_fakeuser\n",
    "from faker import Faker\n",
    "from datetime import datetime\n",
    "from pprint import pprint"
   ]
  },
  {
   "cell_type": "markdown",
   "id": "9973f2ed-e10d-44de-b066-e1d273d1aa78",
   "metadata": {},
   "source": [
    "#### 1. List Up Kafka Topic"
   ]
  },
  {
   "cell_type": "code",
   "execution_count": 6,
   "id": "0d188a7b-e344-44ba-bb11-948e09515ccf",
   "metadata": {
    "tags": []
   },
   "outputs": [],
   "source": [
    "from kafka import KafkaConsumer, KafkaAdminClient\n",
    "from kafka import TopicPartition, OffsetAndMetadata\n",
    "from kafka.admin import NewPartitions, NewTopic\n",
    "\n",
    "bootstrap_servers=[\"kafka1:19091\", \"kafka2:19092\", \"kafka3:19093\"]\n",
    "\n",
    "admin_client = KafkaAdminClient(bootstrap_servers=bootstrap_servers)"
   ]
  },
  {
   "cell_type": "code",
   "execution_count": 14,
   "id": "89946c7b-05fd-4798-a060-12ddddc51385",
   "metadata": {
    "tags": []
   },
   "outputs": [
    {
     "data": {
      "text/plain": [
       "['connect_offsets',\n",
       " 'demo',\n",
       " 'my_status_topic',\n",
       " '__consumer_offsets',\n",
       " 'user',\n",
       " 'connect_configs']"
      ]
     },
     "execution_count": 14,
     "metadata": {},
     "output_type": "execute_result"
    }
   ],
   "source": [
    "admin_client.list_topics()"
   ]
  },
  {
   "cell_type": "code",
   "execution_count": 29,
   "id": "bcaf7ea4-5a83-48bf-a8db-310431110811",
   "metadata": {
    "tags": []
   },
   "outputs": [
    {
     "data": {
      "text/plain": [
       "DeleteTopicsResponse_v3(throttle_time_ms=0, topic_error_codes=[(topic='mysqldemo', error_code=0), (topic='my_status_topic', error_code=0)])"
      ]
     },
     "execution_count": 29,
     "metadata": {},
     "output_type": "execute_result"
    }
   ],
   "source": [
    "admin_client.delete_topics([i for i in topic_list if \"my\" in i])"
   ]
  },
  {
   "cell_type": "code",
   "execution_count": 11,
   "id": "df8b6aa7-41ed-4089-9a1a-922237ffda47",
   "metadata": {
    "tags": []
   },
   "outputs": [
    {
     "data": {
      "text/plain": [
       "DeleteTopicsResponse_v3(throttle_time_ms=0, topic_error_codes=[(topic='demo', error_code=0)])"
      ]
     },
     "execution_count": 11,
     "metadata": {},
     "output_type": "execute_result"
    }
   ],
   "source": [
    "admin_client.delete_topics([\"demo\"])"
   ]
  },
  {
   "cell_type": "markdown",
   "id": "298faf25-b6ff-4e4f-9022-570ad5d638b7",
   "metadata": {
    "tags": []
   },
   "source": [
    "#### 2. Create Kafka Topic"
   ]
  },
  {
   "cell_type": "code",
   "execution_count": 13,
   "id": "67c4a5c3-714c-4544-b20d-b2320108c391",
   "metadata": {
    "tags": []
   },
   "outputs": [
    {
     "data": {
      "text/plain": [
       "CreateTopicsResponse_v3(throttle_time_ms=0, topic_errors=[(topic='demo', error_code=0, error_message=None)])"
      ]
     },
     "execution_count": 13,
     "metadata": {},
     "output_type": "execute_result"
    }
   ],
   "source": [
    "# topic 생성\n",
    "topic_name = \"demo\"\n",
    "num_partitions = 4\n",
    "\n",
    "new_topic_config = {\n",
    "    'name': topic_name,\n",
    "    'num_partitions': num_partitions,\n",
    "    'replication_factor': 1\n",
    "}\n",
    "admin_client.create_topics([NewTopic(**new_topic_config)])"
   ]
  },
  {
   "cell_type": "code",
   "execution_count": 46,
   "id": "7a9ce923-604a-4aef-abbe-948c6a8616e5",
   "metadata": {
    "tags": []
   },
   "outputs": [
    {
     "data": {
      "text/plain": [
       "['dataops.dataops.fakeuser',\n",
       " 'connect-configs',\n",
       " 'connect-status',\n",
       " 'connect-offsets',\n",
       " '__consumer_offsets',\n",
       " 'dataops.dataops.tips',\n",
       " 'fake',\n",
       " 'dataops.dataops.dataops']"
      ]
     },
     "execution_count": 46,
     "metadata": {},
     "output_type": "execute_result"
    }
   ],
   "source": [
    "admin_client.list_topics()"
   ]
  },
  {
   "cell_type": "markdown",
   "id": "1b3d7491-e2a7-4228-a0b0-544500af9295",
   "metadata": {},
   "source": [
    "#### 3. Consumer Object"
   ]
  },
  {
   "cell_type": "code",
   "execution_count": 8,
   "id": "f081092a-2769-4912-ad5d-8e57b9f2ec65",
   "metadata": {
    "tags": []
   },
   "outputs": [],
   "source": [
    "consumer = KafkaConsumer(\n",
    "    topic_name,\n",
    "    bootstrap_servers = bootstrap_servers,\n",
    "    auto_offset_reset = \"earliest\",\n",
    ")\n",
    "consumer.partitions_for_topic(topic_name)"
   ]
  },
  {
   "cell_type": "markdown",
   "id": "ef42abb2-13b9-49aa-ae64-1fb091e81e30",
   "metadata": {},
   "source": [
    "#### 4. Search partition, offset info for the Topic"
   ]
  },
  {
   "cell_type": "code",
   "execution_count": 12,
   "id": "7e469acb-af5e-4302-a3a5-526382c6dd17",
   "metadata": {
    "tags": []
   },
   "outputs": [
    {
     "name": "stdout",
     "output_type": "stream",
     "text": [
      "Offset for topic 'demo1', partition 0: 0\n",
      "Offset for topic 'demo1', partition 1: 0\n",
      "Offset for topic 'demo1', partition 2: 0\n",
      "Offset for topic 'demo1', partition 3: 0\n",
      "Offset for topic 'demo1', partition 4: 0\n",
      "Total offset for topic 'demo1': 0\n"
     ]
    }
   ],
   "source": [
    "total_offset = 0\n",
    "for partition in consumer.partitions_for_topic(topic_name):\n",
    "    tp = TopicPartition(topic_name, partition)\n",
    "    consumer.seek_to_end(tp)\n",
    "    offset = consumer.position(tp)\n",
    "    print(f\"Offset for topic '{topic_name}', partition {partition}: {offset}\")\n",
    "    total_offset += offset\n",
    "    \n",
    "print(f\"Total offset for topic '{topic_name}': {total_offset}\")"
   ]
  },
  {
   "cell_type": "markdown",
   "id": "ef8b26af-2483-4aec-bd2f-bf01308de036",
   "metadata": {},
   "source": [
    "#### 5. Kafka Producer"
   ]
  },
  {
   "cell_type": "code",
   "execution_count": 13,
   "id": "025d0b7e-c638-4e50-b984-df6e0c981c47",
   "metadata": {
    "collapsed": true,
    "jupyter": {
     "outputs_hidden": true
    },
    "tags": []
   },
   "outputs": [
    {
     "name": "stdout",
     "output_type": "stream",
     "text": [
      "============================================================\n",
      "{'name': 'Robert Sanchez', 'ssn': '503-99-0536', 'job': 'Chartered legal executive (England and Wales)', 'residence': '5923 Wright Parks Apt. 104\\nSnyderton, PA 31900', 'blood_group': 'B-', 'sex': 'M', 'birthdate': '19460317', 'uuid': 'FUEWCPtKejjtrsVSs5CJPR', 'timestamp': '2024-05-13 12:54:40'}\n",
      ">>>>>>>>>>>  1 MESSAGE SENT  <<<<<<<<<<<<\n",
      "============================================================\n",
      "{'name': 'Matthew Warner', 'ssn': '482-94-1558', 'job': 'Advertising account planner', 'residence': '41437 York Canyon Suite 241\\nEast Amandaborough, ME 82337', 'blood_group': 'B-', 'sex': 'M', 'birthdate': '19850320', 'uuid': 'F2J9WQVPwx5HZU3UbUZFdc', 'timestamp': '2024-05-13 12:54:41'}\n",
      ">>>>>>>>>>>  2 MESSAGE SENT  <<<<<<<<<<<<\n",
      "============================================================\n",
      "{'name': 'Brianna Vance', 'ssn': '067-73-2326', 'job': 'Development worker, community', 'residence': '86558 Deborah Grove Suite 806\\nBrentfort, MD 24583', 'blood_group': 'AB+', 'sex': 'F', 'birthdate': '19410925', 'uuid': '5y8ytEiEhgEsYicBh74TAK', 'timestamp': '2024-05-13 12:54:42'}\n",
      ">>>>>>>>>>>  3 MESSAGE SENT  <<<<<<<<<<<<\n",
      "============================================================\n",
      "{'name': 'Stephanie Stewart', 'ssn': '035-92-7771', 'job': 'Farm manager', 'residence': '452 Wallace Forest Suite 844\\nLake Lisaview, TX 92284', 'blood_group': 'B+', 'sex': 'F', 'birthdate': '19390923', 'uuid': 'WLJ4QAPJHsSyWgSQoMDoZN', 'timestamp': '2024-05-13 12:54:44'}\n",
      ">>>>>>>>>>>  4 MESSAGE SENT  <<<<<<<<<<<<\n",
      "============================================================\n",
      "{'name': 'Michelle Ponce', 'ssn': '388-46-8328', 'job': 'Cytogeneticist', 'residence': '78176 Weber Lake Apt. 256\\nChristensenview, MD 63938', 'blood_group': 'AB+', 'sex': 'F', 'birthdate': '19091108', 'uuid': '3tbVfKNmyXi9NmCshKFsK5', 'timestamp': '2024-05-13 12:54:45'}\n",
      ">>>>>>>>>>>  5 MESSAGE SENT  <<<<<<<<<<<<\n",
      "============================================================\n",
      "{'name': 'Michael Arroyo', 'ssn': '385-82-2302', 'job': 'Materials engineer', 'residence': '637 Murray Haven\\nMcintoshstad, KS 47647', 'blood_group': 'O+', 'sex': 'M', 'birthdate': '19390804', 'uuid': 'oLiApywBNmV3Kh2DLcFP3e', 'timestamp': '2024-05-13 12:54:46'}\n",
      ">>>>>>>>>>>  6 MESSAGE SENT  <<<<<<<<<<<<\n",
      "============================================================\n",
      "{'name': 'Bridget Reynolds', 'ssn': '723-28-5581', 'job': 'Chartered management accountant', 'residence': '5946 Rodriguez Underpass\\nSouth Sheila, ME 81285', 'blood_group': 'AB+', 'sex': 'F', 'birthdate': '19510723', 'uuid': 'SbX55iJ6E2nDmvkjxfgZGt', 'timestamp': '2024-05-13 12:54:47'}\n",
      ">>>>>>>>>>>  7 MESSAGE SENT  <<<<<<<<<<<<\n",
      "============================================================\n",
      "{'name': 'Charles Poole', 'ssn': '369-92-8772', 'job': 'Telecommunications researcher', 'residence': '97110 Cassandra Rue\\nCarlosville, PW 94625', 'blood_group': 'A-', 'sex': 'M', 'birthdate': '19780816', 'uuid': 'A2Ya5MnWSaXp33MPUdwjL4', 'timestamp': '2024-05-13 12:54:48'}\n",
      ">>>>>>>>>>>  8 MESSAGE SENT  <<<<<<<<<<<<\n",
      "============================================================\n",
      "{'name': 'Shelley Macdonald', 'ssn': '116-31-9306', 'job': 'Site engineer', 'residence': '05843 Edward Inlet\\nTimothytown, MN 35009', 'blood_group': 'AB+', 'sex': 'F', 'birthdate': '19270124', 'uuid': 'TKKPL4RDu2qN9zxreFw7zk', 'timestamp': '2024-05-13 12:54:49'}\n",
      ">>>>>>>>>>>  9 MESSAGE SENT  <<<<<<<<<<<<\n",
      "============================================================\n",
      "{'name': 'Joanne Baker', 'ssn': '783-44-0407', 'job': 'Dancer', 'residence': '9388 Le Junctions\\nFlowersville, IN 22275', 'blood_group': 'AB+', 'sex': 'F', 'birthdate': '20070402', 'uuid': '4VBA386bXouZfF77xcsq4Y', 'timestamp': '2024-05-13 12:54:50'}\n",
      ">>>>>>>>>>>  10 MESSAGE SENT  <<<<<<<<<<<<\n"
     ]
    },
    {
     "ename": "KeyboardInterrupt",
     "evalue": "",
     "output_type": "error",
     "traceback": [
      "\u001b[0;31m---------------------------------------------------------------------------\u001b[0m",
      "\u001b[0;31mKeyboardInterrupt\u001b[0m                         Traceback (most recent call last)",
      "\u001b[0;32m/tmp/ipykernel_24287/1239503925.py\u001b[0m in \u001b[0;36m<module>\u001b[0;34m\u001b[0m\n\u001b[1;32m     11\u001b[0m     \u001b[0mprint\u001b[0m\u001b[0;34m(\u001b[0m\u001b[0mdata\u001b[0m\u001b[0;34m)\u001b[0m\u001b[0;34m\u001b[0m\u001b[0;34m\u001b[0m\u001b[0m\n\u001b[1;32m     12\u001b[0m     \u001b[0mprint\u001b[0m\u001b[0;34m(\u001b[0m\u001b[0;34mf\">>>>>>>>>>>  {i} MESSAGE SENT  <<<<<<<<<<<<\"\u001b[0m\u001b[0;34m)\u001b[0m\u001b[0;34m\u001b[0m\u001b[0;34m\u001b[0m\u001b[0m\n\u001b[0;32m---> 13\u001b[0;31m     \u001b[0mtime\u001b[0m\u001b[0;34m.\u001b[0m\u001b[0msleep\u001b[0m\u001b[0;34m(\u001b[0m\u001b[0;36m1\u001b[0m\u001b[0;34m)\u001b[0m\u001b[0;34m\u001b[0m\u001b[0;34m\u001b[0m\u001b[0m\n\u001b[0m",
      "\u001b[0;31mKeyboardInterrupt\u001b[0m: "
     ]
    }
   ],
   "source": [
    "producer = KafkaProducer(\n",
    "    bootstrap_servers = bootstrap_servers\n",
    ")\n",
    "\n",
    "ORDER_LIMIT = 100\n",
    "for i in range(1, ORDER_LIMIT+1):\n",
    "    data = create_fakeuser()\n",
    "\n",
    "    producer.send(topic_name, json.dumps(data).encode(\"utf-8\"))\n",
    "    print(\"==\"*30)\n",
    "    print(data)\n",
    "    print(f\">>>>>>>>>>>  {i} MESSAGE SENT  <<<<<<<<<<<<\")\n",
    "    time.sleep(1)"
   ]
  },
  {
   "cell_type": "code",
   "execution_count": 15,
   "id": "e77a1aff-18fb-4304-b1a5-55c60c21effd",
   "metadata": {
    "tags": []
   },
   "outputs": [],
   "source": []
  },
  {
   "cell_type": "code",
   "execution_count": null,
   "id": "3925ef75-9b04-482d-8901-59a8102f5ca8",
   "metadata": {},
   "outputs": [],
   "source": []
  },
  {
   "cell_type": "code",
   "execution_count": 37,
   "id": "3a7c0161-1309-4b92-a4e1-63ccacde2c7d",
   "metadata": {
    "tags": []
   },
   "outputs": [
    {
     "ename": "KeyboardInterrupt",
     "evalue": "",
     "output_type": "error",
     "traceback": [
      "\u001b[0;31m---------------------------------------------------------------------------\u001b[0m",
      "\u001b[0;31mKeyboardInterrupt\u001b[0m                         Traceback (most recent call last)",
      "\u001b[0;32m/tmp/ipykernel_2625/3469988015.py\u001b[0m in \u001b[0;36m<module>\u001b[0;34m\u001b[0m\n\u001b[1;32m      6\u001b[0m \u001b[0;34m\u001b[0m\u001b[0m\n\u001b[1;32m      7\u001b[0m \u001b[0;31m# Read and print message from consumer\u001b[0m\u001b[0;34m\u001b[0m\u001b[0;34m\u001b[0m\u001b[0;34m\u001b[0m\u001b[0m\n\u001b[0;32m----> 8\u001b[0;31m \u001b[0;32mfor\u001b[0m \u001b[0mmsg\u001b[0m \u001b[0;32min\u001b[0m \u001b[0mconsumer\u001b[0m\u001b[0;34m:\u001b[0m\u001b[0;34m\u001b[0m\u001b[0;34m\u001b[0m\u001b[0m\n\u001b[0m\u001b[1;32m      9\u001b[0m     \u001b[0;32mtry\u001b[0m\u001b[0;34m:\u001b[0m\u001b[0;34m\u001b[0m\u001b[0;34m\u001b[0m\u001b[0m\n\u001b[1;32m     10\u001b[0m         \u001b[0mraw\u001b[0m \u001b[0;34m=\u001b[0m \u001b[0mjson\u001b[0m\u001b[0;34m.\u001b[0m\u001b[0mloads\u001b[0m\u001b[0;34m(\u001b[0m\u001b[0mmsg\u001b[0m\u001b[0;34m.\u001b[0m\u001b[0mvalue\u001b[0m\u001b[0;34m)\u001b[0m\u001b[0;34m\u001b[0m\u001b[0;34m\u001b[0m\u001b[0m\n",
      "\u001b[0;32m/usr/local/lib/python3.7/site-packages/kafka/consumer/group.py\u001b[0m in \u001b[0;36m__next__\u001b[0;34m(self)\u001b[0m\n\u001b[1;32m   1191\u001b[0m             \u001b[0;32mreturn\u001b[0m \u001b[0mself\u001b[0m\u001b[0;34m.\u001b[0m\u001b[0mnext_v1\u001b[0m\u001b[0;34m(\u001b[0m\u001b[0;34m)\u001b[0m\u001b[0;34m\u001b[0m\u001b[0;34m\u001b[0m\u001b[0m\n\u001b[1;32m   1192\u001b[0m         \u001b[0;32melse\u001b[0m\u001b[0;34m:\u001b[0m\u001b[0;34m\u001b[0m\u001b[0;34m\u001b[0m\u001b[0m\n\u001b[0;32m-> 1193\u001b[0;31m             \u001b[0;32mreturn\u001b[0m \u001b[0mself\u001b[0m\u001b[0;34m.\u001b[0m\u001b[0mnext_v2\u001b[0m\u001b[0;34m(\u001b[0m\u001b[0;34m)\u001b[0m\u001b[0;34m\u001b[0m\u001b[0;34m\u001b[0m\u001b[0m\n\u001b[0m\u001b[1;32m   1194\u001b[0m \u001b[0;34m\u001b[0m\u001b[0m\n\u001b[1;32m   1195\u001b[0m     \u001b[0;32mdef\u001b[0m \u001b[0mnext_v2\u001b[0m\u001b[0;34m(\u001b[0m\u001b[0mself\u001b[0m\u001b[0;34m)\u001b[0m\u001b[0;34m:\u001b[0m\u001b[0;34m\u001b[0m\u001b[0;34m\u001b[0m\u001b[0m\n",
      "\u001b[0;32m/usr/local/lib/python3.7/site-packages/kafka/consumer/group.py\u001b[0m in \u001b[0;36mnext_v2\u001b[0;34m(self)\u001b[0m\n\u001b[1;32m   1199\u001b[0m                 \u001b[0mself\u001b[0m\u001b[0;34m.\u001b[0m\u001b[0m_iterator\u001b[0m \u001b[0;34m=\u001b[0m \u001b[0mself\u001b[0m\u001b[0;34m.\u001b[0m\u001b[0m_message_generator_v2\u001b[0m\u001b[0;34m(\u001b[0m\u001b[0;34m)\u001b[0m\u001b[0;34m\u001b[0m\u001b[0;34m\u001b[0m\u001b[0m\n\u001b[1;32m   1200\u001b[0m             \u001b[0;32mtry\u001b[0m\u001b[0;34m:\u001b[0m\u001b[0;34m\u001b[0m\u001b[0;34m\u001b[0m\u001b[0m\n\u001b[0;32m-> 1201\u001b[0;31m                 \u001b[0;32mreturn\u001b[0m \u001b[0mnext\u001b[0m\u001b[0;34m(\u001b[0m\u001b[0mself\u001b[0m\u001b[0;34m.\u001b[0m\u001b[0m_iterator\u001b[0m\u001b[0;34m)\u001b[0m\u001b[0;34m\u001b[0m\u001b[0;34m\u001b[0m\u001b[0m\n\u001b[0m\u001b[1;32m   1202\u001b[0m             \u001b[0;32mexcept\u001b[0m \u001b[0mStopIteration\u001b[0m\u001b[0;34m:\u001b[0m\u001b[0;34m\u001b[0m\u001b[0;34m\u001b[0m\u001b[0m\n\u001b[1;32m   1203\u001b[0m                 \u001b[0mself\u001b[0m\u001b[0;34m.\u001b[0m\u001b[0m_iterator\u001b[0m \u001b[0;34m=\u001b[0m \u001b[0;32mNone\u001b[0m\u001b[0;34m\u001b[0m\u001b[0;34m\u001b[0m\u001b[0m\n",
      "\u001b[0;32m/usr/local/lib/python3.7/site-packages/kafka/consumer/group.py\u001b[0m in \u001b[0;36m_message_generator_v2\u001b[0;34m(self)\u001b[0m\n\u001b[1;32m   1114\u001b[0m     \u001b[0;32mdef\u001b[0m \u001b[0m_message_generator_v2\u001b[0m\u001b[0;34m(\u001b[0m\u001b[0mself\u001b[0m\u001b[0;34m)\u001b[0m\u001b[0;34m:\u001b[0m\u001b[0;34m\u001b[0m\u001b[0;34m\u001b[0m\u001b[0m\n\u001b[1;32m   1115\u001b[0m         \u001b[0mtimeout_ms\u001b[0m \u001b[0;34m=\u001b[0m \u001b[0;36m1000\u001b[0m \u001b[0;34m*\u001b[0m \u001b[0;34m(\u001b[0m\u001b[0mself\u001b[0m\u001b[0;34m.\u001b[0m\u001b[0m_consumer_timeout\u001b[0m \u001b[0;34m-\u001b[0m \u001b[0mtime\u001b[0m\u001b[0;34m.\u001b[0m\u001b[0mtime\u001b[0m\u001b[0;34m(\u001b[0m\u001b[0;34m)\u001b[0m\u001b[0;34m)\u001b[0m\u001b[0;34m\u001b[0m\u001b[0;34m\u001b[0m\u001b[0m\n\u001b[0;32m-> 1116\u001b[0;31m         \u001b[0mrecord_map\u001b[0m \u001b[0;34m=\u001b[0m \u001b[0mself\u001b[0m\u001b[0;34m.\u001b[0m\u001b[0mpoll\u001b[0m\u001b[0;34m(\u001b[0m\u001b[0mtimeout_ms\u001b[0m\u001b[0;34m=\u001b[0m\u001b[0mtimeout_ms\u001b[0m\u001b[0;34m,\u001b[0m \u001b[0mupdate_offsets\u001b[0m\u001b[0;34m=\u001b[0m\u001b[0;32mFalse\u001b[0m\u001b[0;34m)\u001b[0m\u001b[0;34m\u001b[0m\u001b[0;34m\u001b[0m\u001b[0m\n\u001b[0m\u001b[1;32m   1117\u001b[0m         \u001b[0;32mfor\u001b[0m \u001b[0mtp\u001b[0m\u001b[0;34m,\u001b[0m \u001b[0mrecords\u001b[0m \u001b[0;32min\u001b[0m \u001b[0msix\u001b[0m\u001b[0;34m.\u001b[0m\u001b[0miteritems\u001b[0m\u001b[0;34m(\u001b[0m\u001b[0mrecord_map\u001b[0m\u001b[0;34m)\u001b[0m\u001b[0;34m:\u001b[0m\u001b[0;34m\u001b[0m\u001b[0;34m\u001b[0m\u001b[0m\n\u001b[1;32m   1118\u001b[0m             \u001b[0;31m# Generators are stateful, and it is possible that the tp / records\u001b[0m\u001b[0;34m\u001b[0m\u001b[0;34m\u001b[0m\u001b[0;34m\u001b[0m\u001b[0m\n",
      "\u001b[0;32m/usr/local/lib/python3.7/site-packages/kafka/consumer/group.py\u001b[0m in \u001b[0;36mpoll\u001b[0;34m(self, timeout_ms, max_records, update_offsets)\u001b[0m\n\u001b[1;32m    653\u001b[0m         \u001b[0mremaining\u001b[0m \u001b[0;34m=\u001b[0m \u001b[0mtimeout_ms\u001b[0m\u001b[0;34m\u001b[0m\u001b[0;34m\u001b[0m\u001b[0m\n\u001b[1;32m    654\u001b[0m         \u001b[0;32mwhile\u001b[0m \u001b[0;32mTrue\u001b[0m\u001b[0;34m:\u001b[0m\u001b[0;34m\u001b[0m\u001b[0;34m\u001b[0m\u001b[0m\n\u001b[0;32m--> 655\u001b[0;31m             \u001b[0mrecords\u001b[0m \u001b[0;34m=\u001b[0m \u001b[0mself\u001b[0m\u001b[0;34m.\u001b[0m\u001b[0m_poll_once\u001b[0m\u001b[0;34m(\u001b[0m\u001b[0mremaining\u001b[0m\u001b[0;34m,\u001b[0m \u001b[0mmax_records\u001b[0m\u001b[0;34m,\u001b[0m \u001b[0mupdate_offsets\u001b[0m\u001b[0;34m=\u001b[0m\u001b[0mupdate_offsets\u001b[0m\u001b[0;34m)\u001b[0m\u001b[0;34m\u001b[0m\u001b[0;34m\u001b[0m\u001b[0m\n\u001b[0m\u001b[1;32m    656\u001b[0m             \u001b[0;32mif\u001b[0m \u001b[0mrecords\u001b[0m\u001b[0;34m:\u001b[0m\u001b[0;34m\u001b[0m\u001b[0;34m\u001b[0m\u001b[0m\n\u001b[1;32m    657\u001b[0m                 \u001b[0;32mreturn\u001b[0m \u001b[0mrecords\u001b[0m\u001b[0;34m\u001b[0m\u001b[0;34m\u001b[0m\u001b[0m\n",
      "\u001b[0;32m/usr/local/lib/python3.7/site-packages/kafka/consumer/group.py\u001b[0m in \u001b[0;36m_poll_once\u001b[0;34m(self, timeout_ms, max_records, update_offsets)\u001b[0m\n\u001b[1;32m    700\u001b[0m \u001b[0;34m\u001b[0m\u001b[0m\n\u001b[1;32m    701\u001b[0m         \u001b[0mtimeout_ms\u001b[0m \u001b[0;34m=\u001b[0m \u001b[0mmin\u001b[0m\u001b[0;34m(\u001b[0m\u001b[0mtimeout_ms\u001b[0m\u001b[0;34m,\u001b[0m \u001b[0mself\u001b[0m\u001b[0;34m.\u001b[0m\u001b[0m_coordinator\u001b[0m\u001b[0;34m.\u001b[0m\u001b[0mtime_to_next_poll\u001b[0m\u001b[0;34m(\u001b[0m\u001b[0;34m)\u001b[0m \u001b[0;34m*\u001b[0m \u001b[0;36m1000\u001b[0m\u001b[0;34m)\u001b[0m\u001b[0;34m\u001b[0m\u001b[0;34m\u001b[0m\u001b[0m\n\u001b[0;32m--> 702\u001b[0;31m         \u001b[0mself\u001b[0m\u001b[0;34m.\u001b[0m\u001b[0m_client\u001b[0m\u001b[0;34m.\u001b[0m\u001b[0mpoll\u001b[0m\u001b[0;34m(\u001b[0m\u001b[0mtimeout_ms\u001b[0m\u001b[0;34m=\u001b[0m\u001b[0mtimeout_ms\u001b[0m\u001b[0;34m)\u001b[0m\u001b[0;34m\u001b[0m\u001b[0;34m\u001b[0m\u001b[0m\n\u001b[0m\u001b[1;32m    703\u001b[0m         \u001b[0;31m# after the long poll, we should check whether the group needs to rebalance\u001b[0m\u001b[0;34m\u001b[0m\u001b[0;34m\u001b[0m\u001b[0;34m\u001b[0m\u001b[0m\n\u001b[1;32m    704\u001b[0m         \u001b[0;31m# prior to returning data so that the group can stabilize faster\u001b[0m\u001b[0;34m\u001b[0m\u001b[0;34m\u001b[0m\u001b[0;34m\u001b[0m\u001b[0m\n",
      "\u001b[0;32m/usr/local/lib/python3.7/site-packages/kafka/client_async.py\u001b[0m in \u001b[0;36mpoll\u001b[0;34m(self, timeout_ms, future)\u001b[0m\n\u001b[1;32m    600\u001b[0m                     \u001b[0mtimeout\u001b[0m \u001b[0;34m=\u001b[0m \u001b[0mmax\u001b[0m\u001b[0;34m(\u001b[0m\u001b[0;36m0\u001b[0m\u001b[0;34m,\u001b[0m \u001b[0mtimeout\u001b[0m\u001b[0;34m)\u001b[0m  \u001b[0;31m# avoid negative timeouts\u001b[0m\u001b[0;34m\u001b[0m\u001b[0;34m\u001b[0m\u001b[0m\n\u001b[1;32m    601\u001b[0m \u001b[0;34m\u001b[0m\u001b[0m\n\u001b[0;32m--> 602\u001b[0;31m                 \u001b[0mself\u001b[0m\u001b[0;34m.\u001b[0m\u001b[0m_poll\u001b[0m\u001b[0;34m(\u001b[0m\u001b[0mtimeout\u001b[0m \u001b[0;34m/\u001b[0m \u001b[0;36m1000\u001b[0m\u001b[0;34m)\u001b[0m\u001b[0;34m\u001b[0m\u001b[0;34m\u001b[0m\u001b[0m\n\u001b[0m\u001b[1;32m    603\u001b[0m \u001b[0;34m\u001b[0m\u001b[0m\n\u001b[1;32m    604\u001b[0m             \u001b[0;31m# called without the lock to avoid deadlock potential\u001b[0m\u001b[0;34m\u001b[0m\u001b[0;34m\u001b[0m\u001b[0;34m\u001b[0m\u001b[0m\n",
      "\u001b[0;32m/usr/local/lib/python3.7/site-packages/kafka/client_async.py\u001b[0m in \u001b[0;36m_poll\u001b[0;34m(self, timeout)\u001b[0m\n\u001b[1;32m    632\u001b[0m \u001b[0;34m\u001b[0m\u001b[0m\n\u001b[1;32m    633\u001b[0m         \u001b[0mstart_select\u001b[0m \u001b[0;34m=\u001b[0m \u001b[0mtime\u001b[0m\u001b[0;34m.\u001b[0m\u001b[0mtime\u001b[0m\u001b[0;34m(\u001b[0m\u001b[0;34m)\u001b[0m\u001b[0;34m\u001b[0m\u001b[0;34m\u001b[0m\u001b[0m\n\u001b[0;32m--> 634\u001b[0;31m         \u001b[0mready\u001b[0m \u001b[0;34m=\u001b[0m \u001b[0mself\u001b[0m\u001b[0;34m.\u001b[0m\u001b[0m_selector\u001b[0m\u001b[0;34m.\u001b[0m\u001b[0mselect\u001b[0m\u001b[0;34m(\u001b[0m\u001b[0mtimeout\u001b[0m\u001b[0;34m)\u001b[0m\u001b[0;34m\u001b[0m\u001b[0;34m\u001b[0m\u001b[0m\n\u001b[0m\u001b[1;32m    635\u001b[0m         \u001b[0mend_select\u001b[0m \u001b[0;34m=\u001b[0m \u001b[0mtime\u001b[0m\u001b[0;34m.\u001b[0m\u001b[0mtime\u001b[0m\u001b[0;34m(\u001b[0m\u001b[0;34m)\u001b[0m\u001b[0;34m\u001b[0m\u001b[0;34m\u001b[0m\u001b[0m\n\u001b[1;32m    636\u001b[0m         \u001b[0;32mif\u001b[0m \u001b[0mself\u001b[0m\u001b[0;34m.\u001b[0m\u001b[0m_sensors\u001b[0m\u001b[0;34m:\u001b[0m\u001b[0;34m\u001b[0m\u001b[0;34m\u001b[0m\u001b[0m\n",
      "\u001b[0;32m/usr/local/lib/python3.7/selectors.py\u001b[0m in \u001b[0;36mselect\u001b[0;34m(self, timeout)\u001b[0m\n\u001b[1;32m    466\u001b[0m             \u001b[0mready\u001b[0m \u001b[0;34m=\u001b[0m \u001b[0;34m[\u001b[0m\u001b[0;34m]\u001b[0m\u001b[0;34m\u001b[0m\u001b[0;34m\u001b[0m\u001b[0m\n\u001b[1;32m    467\u001b[0m             \u001b[0;32mtry\u001b[0m\u001b[0;34m:\u001b[0m\u001b[0;34m\u001b[0m\u001b[0;34m\u001b[0m\u001b[0m\n\u001b[0;32m--> 468\u001b[0;31m                 \u001b[0mfd_event_list\u001b[0m \u001b[0;34m=\u001b[0m \u001b[0mself\u001b[0m\u001b[0;34m.\u001b[0m\u001b[0m_selector\u001b[0m\u001b[0;34m.\u001b[0m\u001b[0mpoll\u001b[0m\u001b[0;34m(\u001b[0m\u001b[0mtimeout\u001b[0m\u001b[0;34m,\u001b[0m \u001b[0mmax_ev\u001b[0m\u001b[0;34m)\u001b[0m\u001b[0;34m\u001b[0m\u001b[0;34m\u001b[0m\u001b[0m\n\u001b[0m\u001b[1;32m    469\u001b[0m             \u001b[0;32mexcept\u001b[0m \u001b[0mInterruptedError\u001b[0m\u001b[0;34m:\u001b[0m\u001b[0;34m\u001b[0m\u001b[0;34m\u001b[0m\u001b[0m\n\u001b[1;32m    470\u001b[0m                 \u001b[0;32mreturn\u001b[0m \u001b[0mready\u001b[0m\u001b[0;34m\u001b[0m\u001b[0;34m\u001b[0m\u001b[0m\n",
      "\u001b[0;31mKeyboardInterrupt\u001b[0m: "
     ]
    }
   ],
   "source": [
    "from datetime import datetime\n",
    "\n",
    "topic_name = \"my_status_topic\"\n",
    "consumer = KafkaConsumer (topic_name , auto_offset_reset='earliest', \n",
    "                          bootstrap_servers = bootstrap_servers)\n",
    "\n",
    "# Read and print message from consumer\n",
    "for msg in consumer:\n",
    "    try:\n",
    "        raw = json.loads(msg.value)\n",
    "        raw[\"ts_ms\"] = datetime.fromtimestamp(raw[\"ts_ms\"] / 1000).strftime('%Y-%m-%d %H:%M:%S')\n",
    "        pprint(raw)\n",
    "        print(\"--\"*50)\n",
    "    except:\n",
    "        pass"
   ]
  },
  {
   "cell_type": "code",
   "execution_count": 29,
   "id": "b6b81bd5-996c-423b-9b0f-bee89a7679cd",
   "metadata": {
    "tags": []
   },
   "outputs": [],
   "source": [
    "# Create the Spark Session\n",
    "from pyspark.sql import SparkSession\n",
    "from pyspark.sql import types as T\n",
    "from pyspark.sql import window as W\n",
    "from pyspark.sql import functions as F\n",
    "\n",
    "spark = (\n",
    "    SparkSession \n",
    "    .builder \n",
    "    .appName(\"Streaming from Kafka\") \n",
    "    .config(\"spark.streaming.stopGracefullyOnShutdown\", True) \n",
    "    .config('spark.jars.packages', 'org.apache.spark:spark-sql-kafka-0-10_2.12:3.3.0')\n",
    "    .config(\"spark.driver.extraClassPath\", \"./jdbc/mysql-connector-j-8.4.0.jar\") \\\n",
    "    .config(\"spark.sql.shuffle.partitions\", 8)\n",
    "    .master(\"local[*]\") \n",
    "    .getOrCreate()\n",
    ")"
   ]
  },
  {
   "cell_type": "code",
   "execution_count": 32,
   "id": "dec49ae0-3fc4-47bc-8617-d21d9e9714e2",
   "metadata": {
    "tags": []
   },
   "outputs": [
    {
     "data": {
      "text/plain": [
       "1"
      ]
     },
     "execution_count": 32,
     "metadata": {},
     "output_type": "execute_result"
    }
   ],
   "source": [
    "kdf = spark.read \\\n",
    "    .format(\"kafka\") \\\n",
    "    .option(\"kafka.bootstrap.servers\", \"kafka1:19091,kafka2:19092,kafka3:19093\") \\\n",
    "    .option(\"subscribe\", topic_name) \\\n",
    "    .option(\"startingOffsets\", \"earliest\") \\\n",
    "    .load()\n",
    "\n",
    "kdf.rdd.getNumPartitions()"
   ]
  },
  {
   "cell_type": "code",
   "execution_count": 33,
   "id": "71fbeb2a-9327-4092-8afe-237e431eba71",
   "metadata": {
    "tags": []
   },
   "outputs": [
    {
     "name": "stdout",
     "output_type": "stream",
     "text": [
      "+----+--------------------+--------------------+---------+------+--------------------+-------------+\n",
      "| key|               value|               topic|partition|offset|           timestamp|timestampType|\n",
      "+----+--------------------+--------------------+---------+------+--------------------+-------------+\n",
      "|null|[7B 22 62 65 66 6...|dataops.dataops.d...|        0|     0|2024-05-14 12:57:...|            0|\n",
      "|null|[7B 22 62 65 66 6...|dataops.dataops.d...|        0|     1|2024-05-14 12:57:...|            0|\n",
      "|null|[7B 22 62 65 66 6...|dataops.dataops.d...|        0|     2|2024-05-14 12:57:...|            0|\n",
      "|null|[7B 22 62 65 66 6...|dataops.dataops.d...|        0|     3|2024-05-14 13:46:...|            0|\n",
      "|null|[7B 22 62 65 66 6...|dataops.dataops.d...|        0|     4|2024-05-14 13:46:...|            0|\n",
      "|null|[7B 22 62 65 66 6...|dataops.dataops.d...|        0|     5|2024-05-14 13:46:...|            0|\n",
      "|null|[7B 22 62 65 66 6...|dataops.dataops.d...|        0|     6|2024-05-14 13:50:...|            0|\n",
      "|null|                null|dataops.dataops.d...|        0|     7|2024-05-14 13:50:...|            0|\n",
      "|null|[7B 22 62 65 66 6...|dataops.dataops.d...|        0|     8|2024-05-14 13:52:...|            0|\n",
      "+----+--------------------+--------------------+---------+------+--------------------+-------------+\n",
      "\n"
     ]
    }
   ],
   "source": [
    "kdf.show()"
   ]
  },
  {
   "cell_type": "code",
   "execution_count": 34,
   "id": "fc10da7e-6517-470d-8086-d89838670c26",
   "metadata": {
    "tags": []
   },
   "outputs": [
    {
     "name": "stdout",
     "output_type": "stream",
     "text": [
      "+----+--------------------------------------------------------------------------------------------------------------------------------------------------------------------------------------------------------------------------------------------------------------------------------------------------------------------------------------------------------------------------------------------------------------------------------------------------------------------------------------------------------------------------------------------------------------------------------------------------------------------------------------------------------------------------------------------------------------------------------------------------------------------------------------------------------------------------+-----------------------+---------+------+-----------------------+-------------+\n",
      "|key |value                                                                                                                                                                                                                                                                                                                                                                                                                                                                                                                                                                                                                                                                                                                                                                                                                     |topic                  |partition|offset|timestamp              |timestampType|\n",
      "+----+--------------------------------------------------------------------------------------------------------------------------------------------------------------------------------------------------------------------------------------------------------------------------------------------------------------------------------------------------------------------------------------------------------------------------------------------------------------------------------------------------------------------------------------------------------------------------------------------------------------------------------------------------------------------------------------------------------------------------------------------------------------------------------------------------------------------------+-----------------------+---------+------+-----------------------+-------------+\n",
      "|null|{\"before\":null,\"after\":{\"index\":0,\"birthdate\":19810916,\"blood_group\":\"AB+\",\"job\":\"Psychologist, prison and probation services\",\"name\":\"James Murray\",\"residence\":\"PSC 1544, Box 3161\\nAPO AP 52676\",\"sex\":\"M\",\"ssn\":\"741-53-6179\",\"uuid\":\"Cb7TYKQGDVZrB84FoUywnE\"},\"source\":{\"version\":\"2.2.1.Final\",\"connector\":\"mysql\",\"name\":\"dataops\",\"ts_ms\":1715691422000,\"snapshot\":\"first\",\"db\":\"dataops\",\"sequence\":null,\"table\":\"dataops\",\"server_id\":0,\"gtid\":null,\"file\":\"binlog.000004\",\"pos\":156,\"row\":0,\"thread\":null,\"query\":null},\"op\":\"r\",\"ts_ms\":1715691422227,\"transaction\":null}                                                                                                                                                                                                                                     |dataops.dataops.dataops|0        |0     |2024-05-14 12:57:02.874|0            |\n",
      "|null|{\"before\":null,\"after\":{\"index\":1,\"birthdate\":19580109,\"blood_group\":\"AB-\",\"job\":\"Child psychotherapist\",\"name\":\"Sydney Weaver\",\"residence\":\"96697 Marissa Bypass Apt. 724\\nSouth Sonya, VA 41818\",\"sex\":\"F\",\"ssn\":\"576-98-7289\",\"uuid\":\"4huCF5xaAGPLHyEpN86UhG\"},\"source\":{\"version\":\"2.2.1.Final\",\"connector\":\"mysql\",\"name\":\"dataops\",\"ts_ms\":1715691422000,\"snapshot\":\"true\",\"db\":\"dataops\",\"sequence\":null,\"table\":\"dataops\",\"server_id\":0,\"gtid\":null,\"file\":\"binlog.000004\",\"pos\":156,\"row\":0,\"thread\":null,\"query\":null},\"op\":\"r\",\"ts_ms\":1715691422231,\"transaction\":null}                                                                                                                                                                                                                                       |dataops.dataops.dataops|0        |1     |2024-05-14 12:57:02.875|0            |\n",
      "|null|{\"before\":null,\"after\":{\"index\":2,\"birthdate\":19880909,\"blood_group\":\"O+\",\"job\":\"Production assistant, television\",\"name\":\"Dr. Valerie Wagner\",\"residence\":\"4981 Smith Prairie Apt. 370\\nNorth Clifford, AZ 58186\",\"sex\":\"F\",\"ssn\":\"196-87-0323\",\"uuid\":\"8AdYZ52fqepNjcizRXA2ZF\"},\"source\":{\"version\":\"2.2.1.Final\",\"connector\":\"mysql\",\"name\":\"dataops\",\"ts_ms\":1715691422000,\"snapshot\":\"last_in_data_collection\",\"db\":\"dataops\",\"sequence\":null,\"table\":\"dataops\",\"server_id\":0,\"gtid\":null,\"file\":\"binlog.000004\",\"pos\":156,\"row\":0,\"thread\":null,\"query\":null},\"op\":\"r\",\"ts_ms\":1715691422232,\"transaction\":null}                                                                                                                                                                                                    |dataops.dataops.dataops|0        |2     |2024-05-14 12:57:02.875|0            |\n",
      "|null|{\"before\":null,\"after\":{\"index\":0,\"birthdate\":20000613,\"blood_group\":\"AB-\",\"job\":\"General practice doctor\",\"name\":\"Michael Hill\",\"residence\":\"4178 Angela Overpass Apt. 656\\nBrentshire, PR 36149\",\"sex\":\"M\",\"ssn\":\"584-05-2259\",\"uuid\":\"NJq5rENfgnGDkpKJgm5sws\"},\"source\":{\"version\":\"2.2.1.Final\",\"connector\":\"mysql\",\"name\":\"dataops\",\"ts_ms\":1715694376000,\"snapshot\":\"false\",\"db\":\"dataops\",\"sequence\":null,\"table\":\"dataops\",\"server_id\":1,\"gtid\":null,\"file\":\"binlog.000004\",\"pos\":390,\"row\":0,\"thread\":19,\"query\":null},\"op\":\"c\",\"ts_ms\":1715694376137,\"transaction\":null}                                                                                                                                                                                                                                        |dataops.dataops.dataops|0        |3     |2024-05-14 13:46:16.355|0            |\n",
      "|null|{\"before\":null,\"after\":{\"index\":0,\"birthdate\":19841026,\"blood_group\":\"A-\",\"job\":\"Facilities manager\",\"name\":\"James Moore\",\"residence\":\"8644 Anne Point\\nWest Mary, NY 84269\",\"sex\":\"M\",\"ssn\":\"587-28-4597\",\"uuid\":\"VEsXeRy3XtfiBfpB7uHmfa\"},\"source\":{\"version\":\"2.2.1.Final\",\"connector\":\"mysql\",\"name\":\"dataops\",\"ts_ms\":1715694386000,\"snapshot\":\"false\",\"db\":\"dataops\",\"sequence\":null,\"table\":\"dataops\",\"server_id\":1,\"gtid\":null,\"file\":\"binlog.000004\",\"pos\":845,\"row\":0,\"thread\":19,\"query\":null},\"op\":\"c\",\"ts_ms\":1715694386172,\"transaction\":null}                                                                                                                                                                                                                                                              |dataops.dataops.dataops|0        |4     |2024-05-14 13:46:26.376|0            |\n",
      "|null|{\"before\":null,\"after\":{\"index\":0,\"birthdate\":19380419,\"blood_group\":\"A+\",\"job\":\"Tour manager\",\"name\":\"Kelly Scott\",\"residence\":\"775 Katelyn Ridge Suite 475\\nWest Stacymouth, IL 75022\",\"sex\":\"F\",\"ssn\":\"200-63-6752\",\"uuid\":\"g8E998N3nygEuK7vvL38kw\"},\"source\":{\"version\":\"2.2.1.Final\",\"connector\":\"mysql\",\"name\":\"dataops\",\"ts_ms\":1715694396000,\"snapshot\":\"false\",\"db\":\"dataops\",\"sequence\":null,\"table\":\"dataops\",\"server_id\":1,\"gtid\":null,\"file\":\"binlog.000004\",\"pos\":1278,\"row\":0,\"thread\":19,\"query\":null},\"op\":\"c\",\"ts_ms\":1715694396242,\"transaction\":null}                                                                                                                                                                                                                                                 |dataops.dataops.dataops|0        |5     |2024-05-14 13:46:36.396|0            |\n",
      "|null|{\"before\":{\"index\":0,\"birthdate\":20000613,\"blood_group\":\"AB-\",\"job\":\"General practice doctor\",\"name\":\"Michael Hill\",\"residence\":\"4178 Angela Overpass Apt. 656\\nBrentshire, PR 36149\",\"sex\":\"M\",\"ssn\":\"584-05-2259\",\"uuid\":\"NJq5rENfgnGDkpKJgm5sws\"},\"after\":null,\"source\":{\"version\":\"2.2.1.Final\",\"connector\":\"mysql\",\"name\":\"dataops\",\"ts_ms\":1715694602000,\"snapshot\":\"false\",\"db\":\"dataops\",\"sequence\":null,\"table\":\"dataops\",\"server_id\":1,\"gtid\":null,\"file\":\"binlog.000004\",\"pos\":1723,\"row\":0,\"thread\":22,\"query\":null},\"op\":\"d\",\"ts_ms\":1715694602862,\"transaction\":null}                                                                                                                                                                                                                                       |dataops.dataops.dataops|0        |6     |2024-05-14 13:50:03.324|0            |\n",
      "|null|null                                                                                                                                                                                                                                                                                                                                                                                                                                                                                                                                                                                                                                                                                                                                                                                                                      |dataops.dataops.dataops|0        |7     |2024-05-14 13:50:03.324|0            |\n",
      "|null|{\"before\":{\"index\":0,\"birthdate\":19810916,\"blood_group\":\"AB+\",\"job\":\"Psychologist, prison and probation services\",\"name\":\"James Murray\",\"residence\":\"PSC 1544, Box 3161\\nAPO AP 52676\",\"sex\":\"M\",\"ssn\":\"741-53-6179\",\"uuid\":\"Cb7TYKQGDVZrB84FoUywnE\"},\"after\":{\"index\":0,\"birthdate\":19810916,\"blood_group\":\"AB+\",\"job\":\"Psychologist, prison and probation services\",\"name\":\"hyunsoo lee\",\"residence\":\"PSC 1544, Box 3161\\nAPO AP 52676\",\"sex\":\"M\",\"ssn\":\"741-53-6179\",\"uuid\":\"Cb7TYKQGDVZrB84FoUywnE\"},\"source\":{\"version\":\"2.2.1.Final\",\"connector\":\"mysql\",\"name\":\"dataops\",\"ts_ms\":1715694735000,\"snapshot\":\"false\",\"db\":\"dataops\",\"sequence\":null,\"table\":\"dataops\",\"server_id\":1,\"gtid\":null,\"file\":\"binlog.000004\",\"pos\":2187,\"row\":0,\"thread\":22,\"query\":null},\"op\":\"u\",\"ts_ms\":1715694735113,\"transaction\":null}|dataops.dataops.dataops|0        |8     |2024-05-14 13:52:15.591|0            |\n",
      "+----+--------------------------------------------------------------------------------------------------------------------------------------------------------------------------------------------------------------------------------------------------------------------------------------------------------------------------------------------------------------------------------------------------------------------------------------------------------------------------------------------------------------------------------------------------------------------------------------------------------------------------------------------------------------------------------------------------------------------------------------------------------------------------------------------------------------------------+-----------------------+---------+------+-----------------------+-------------+\n",
      "\n"
     ]
    }
   ],
   "source": [
    "value_df = kdf.withColumn(\"value\", F.expr(\"cast(value as string)\"))\n",
    "\n",
    "value_df.show(truncate=False)"
   ]
  },
  {
   "cell_type": "code",
   "execution_count": 25,
   "id": "a23a9c0e-77b4-4b88-a3d3-3582a4522b2d",
   "metadata": {
    "tags": []
   },
   "outputs": [
    {
     "name": "stdout",
     "output_type": "stream",
     "text": [
      "{'after': {'birthdate': 19810916,\n",
      "           'blood_group': 'AB+',\n",
      "           'index': 0,\n",
      "           'job': 'Psychologist, prison and probation services',\n",
      "           'name': 'James Murray',\n",
      "           'residence': 'PSC 1544, Box 3161\\nAPO AP 52676',\n",
      "           'sex': 'M',\n",
      "           'ssn': '741-53-6179',\n",
      "           'uuid': 'Cb7TYKQGDVZrB84FoUywnE'},\n",
      " 'before': None,\n",
      " 'op': 'r',\n",
      " 'source': {'connector': 'mysql',\n",
      "            'db': 'dataops',\n",
      "            'file': 'binlog.000004',\n",
      "            'gtid': None,\n",
      "            'name': 'dataops',\n",
      "            'pos': 156,\n",
      "            'query': None,\n",
      "            'row': 0,\n",
      "            'sequence': None,\n",
      "            'server_id': 0,\n",
      "            'snapshot': 'first_in_data_collection',\n",
      "            'table': 'fakeuser',\n",
      "            'thread': None,\n",
      "            'ts_ms': 1715691422000,\n",
      "            'version': '2.2.1.Final'},\n",
      " 'transaction': None,\n",
      " 'ts_ms': 1715691422237}\n"
     ]
    }
   ],
   "source": [
    "\n",
    "\n",
    "pprint(json.loads(value_df.first().value))"
   ]
  },
  {
   "cell_type": "code",
   "execution_count": 1,
   "id": "52d0decb-6744-4d4d-bbb4-c1c9456725e7",
   "metadata": {
    "tags": []
   },
   "outputs": [
    {
     "name": "stdout",
     "output_type": "stream",
     "text": [
      "{'customerId': 'CI00103',\n",
      " 'data': {'devices': [{'deviceId': 'D001',\n",
      "                       'measure': 'C',\n",
      "                       'status': 'ERROR',\n",
      "                       'temperature': 15},\n",
      "                      {'deviceId': 'D002',\n",
      "                       'measure': 'C',\n",
      "                       'status': 'SUCCESS',\n",
      "                       'temperature': 16}]},\n",
      " 'eventId': 'e3cb26d3-41b2-49a2-84f3-0156ed8d7502',\n",
      " 'eventOffset': 10001,\n",
      " 'eventPublisher': 'device',\n",
      " 'eventTime': '2023-01-05 11:13:53.643364'}\n"
     ]
    }
   ],
   "source": [
    "from pprint import pprint\n",
    "\n",
    "aa = {\"eventId\": \"e3cb26d3-41b2-49a2-84f3-0156ed8d7502\", \"eventOffset\": 10001, \"eventPublisher\": \"device\", \"customerId\": \"CI00103\", \"data\": {\"devices\": [{\"deviceId\": \"D001\", \"temperature\": 15, \"measure\": \"C\", \"status\": \"ERROR\"}, {\"deviceId\": \"D002\", \"temperature\": 16, \"measure\": \"C\", \"status\": \"SUCCESS\"}]}, \"eventTime\": \"2023-01-05 11:13:53.643364\"}\n",
    "\n",
    "pprint(aa)"
   ]
  }
 ],
 "metadata": {
  "kernelspec": {
   "display_name": "Python 3 (ipykernel)",
   "language": "python",
   "name": "python3"
  },
  "language_info": {
   "codemirror_mode": {
    "name": "ipython",
    "version": 3
   },
   "file_extension": ".py",
   "mimetype": "text/x-python",
   "name": "python",
   "nbconvert_exporter": "python",
   "pygments_lexer": "ipython3",
   "version": "3.8.10"
  }
 },
 "nbformat": 4,
 "nbformat_minor": 5
}
